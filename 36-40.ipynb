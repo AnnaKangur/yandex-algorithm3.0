{
 "cells": [
  {
   "cell_type": "markdown",
   "id": "5e3be4e8",
   "metadata": {},
   "source": [
    "# 36. Длина кратчайшего пути"
   ]
  },
  {
   "cell_type": "code",
   "execution_count": 1,
   "id": "41a5274d",
   "metadata": {},
   "outputs": [],
   "source": [
    "n = 10\n",
    "arr = [list(map(int, '0 1 0 0 0 0 0 0 0 0'.split())),\n",
    "       list(map(int, '1 0 0 1 1 0 1 0 0 0'.split())),\n",
    "       list(map(int, '0 0 0 0 1 0 0 0 1 0'.split())),\n",
    "       list(map(int, '0 1 0 0 0 0 1 0 0 0'.split())),\n",
    "       list(map(int, '0 1 1 0 0 0 0 0 0 1'.split())),\n",
    "       list(map(int, '0 0 0 0 0 0 1 0 0 1'.split())),\n",
    "       list(map(int, '0 1 0 1 0 1 0 0 0 0'.split())),\n",
    "       list(map(int, '0 0 0 0 0 0 0 0 1 0'.split())),\n",
    "       list(map(int, '0 0 1 0 0 0 0 1 0 0'.split())),\n",
    "       list(map(int, '0 0 0 0 1 1 0 0 0 0'.split()))] \n",
    "start, finish = 5, 4\n",
    "# 2"
   ]
  },
  {
   "cell_type": "code",
   "execution_count": 19,
   "id": "b9924eb3",
   "metadata": {},
   "outputs": [],
   "source": [
    "n = 5\n",
    "arr = [list(map(int, '0 1 0 0 1'.split())),\n",
    "       list(map(int, '1 0 1 0 0'.split())),\n",
    "       list(map(int, '0 1 0 0 0'.split())),\n",
    "       list(map(int, '0 0 0 0 0'.split())),\n",
    "       list(map(int, '1 0 0 0 0'.split()))]\n",
    "start, finish = 3, 5\n",
    "# 3"
   ]
  },
  {
   "cell_type": "code",
   "execution_count": 5,
   "id": "bb998a82",
   "metadata": {},
   "outputs": [],
   "source": [
    "n = 10\n",
    "arr = [list(map(int, '0 1 0 0 0 0 0 0 0 0'.split())),\n",
    "       list(map(int, '1 0 0 1 1 0 1 0 0 0'.split())),\n",
    "       list(map(int, '0 0 0 0 1 0 0 0 1 0'.split())),\n",
    "       list(map(int, '0 1 0 0 0 0 1 0 0 0'.split())),\n",
    "       list(map(int, '0 1 1 0 0 0 0 0 0 1'.split())),\n",
    "       list(map(int, '0 0 0 0 0 0 1 0 0 1'.split())),\n",
    "       list(map(int, '0 1 0 1 0 1 0 0 0 0'.split())),\n",
    "       list(map(int, '0 0 0 0 0 0 0 0 1 0'.split())),\n",
    "       list(map(int, '0 0 1 0 0 0 0 1 0 0'.split())),\n",
    "       list(map(int, '0 0 0 0 1 1 0 0 0 0'.split()))] \n",
    "start, finish = 1,8"
   ]
  },
  {
   "cell_type": "code",
   "execution_count": 17,
   "id": "46d7bc7d",
   "metadata": {},
   "outputs": [],
   "source": [
    "n = 5\n",
    "\n",
    "arr = [list(map(int, '0 0 0 0 0 '.split())),\n",
    "       list(map(int, '0 0 0 0 0 '.split())),\n",
    "       list(map(int, '0 0 0 0 0 '.split())),\n",
    "       list(map(int, '0 0 0 0 0 '.split())),\n",
    "       list(map(int, '0 0 0 0 0 '.split()))] \n",
    "start, finish = 5, 2"
   ]
  },
  {
   "cell_type": "code",
   "execution_count": 18,
   "id": "7e9e81fd",
   "metadata": {},
   "outputs": [
    {
     "name": "stdout",
     "output_type": "stream",
     "text": [
      "[[], [], [], [], [], []]\n"
     ]
    }
   ],
   "source": [
    "G = [[] for col in range(n+1)] \n",
    "for i in range(n):\n",
    "    row = arr[i]\n",
    "    for j in range(n):\n",
    "        if row[j] == 1:\n",
    "            G[i+1].append(j+1)\n",
    "print(G)"
   ]
  },
  {
   "cell_type": "code",
   "execution_count": null,
   "id": "c1a39935",
   "metadata": {},
   "outputs": [],
   "source": []
  },
  {
   "cell_type": "code",
   "execution_count": 23,
   "id": "36d6fd1a",
   "metadata": {},
   "outputs": [
    {
     "name": "stdout",
     "output_type": "stream",
     "text": [
      "-1\n"
     ]
    }
   ],
   "source": [
    "# n = int(input())\n",
    "\n",
    "# G = [[] for col in range(n+1)] \n",
    "for i in range(n):\n",
    "    row = arr[i]\n",
    "    # row = list(map(int, input().split()))\n",
    "    for j in range(n):\n",
    "        if row[j] == 1:\n",
    "            G[i+1].append(j+1)\n",
    "# print(G)\n",
    "# start, finish = map(int, input().split())\n",
    "\n",
    "# Посещенные \n",
    "visited = [-1]*(n+1)\n",
    "# Очередь\n",
    "queue = []\n",
    "\n",
    "queue = [start]\n",
    "now = queue[0]\n",
    "visited[start] = 0\n",
    "#print('visited = ', visited)\n",
    "#print('queue = ', queue)\n",
    "queue2 = []\n",
    "step = 1\n",
    "\n",
    "res = 0\n",
    "\n",
    "while now != finish and len(queue) != 0:\n",
    "    now = queue[0]\n",
    "    neigs = G[now]\n",
    "    for neig in neigs:\n",
    "        if visited[neig] == -1:\n",
    "            visited[neig] = step\n",
    "            queue2.append(neig)\n",
    "    queue.pop(0)\n",
    "    if len(queue) == 0:\n",
    "        queue = queue2\n",
    "        queue2 = []\n",
    "        step += 1\n",
    "    #print('visited = ', visited)\n",
    "    #print('queue = ', queue)\n",
    "if start == finish:\n",
    "    print(0)\n",
    "elif visited[now] == 0:\n",
    "    print(-1)\n",
    "else:\n",
    "    print(visited[now])"
   ]
  },
  {
   "cell_type": "code",
   "execution_count": 25,
   "id": "88631a5d",
   "metadata": {},
   "outputs": [
    {
     "ename": "SyntaxError",
     "evalue": "invalid syntax (Temp/ipykernel_7532/3575177706.py, line 1)",
     "output_type": "error",
     "traceback": [
      "\u001b[1;36m  File \u001b[1;32m\"C:\\Users\\anike\\AppData\\Local\\Temp/ipykernel_7532/3575177706.py\"\u001b[1;36m, line \u001b[1;32m1\u001b[0m\n\u001b[1;33m    0 1 0 0 1\u001b[0m\n\u001b[1;37m      ^\u001b[0m\n\u001b[1;31mSyntaxError\u001b[0m\u001b[1;31m:\u001b[0m invalid syntax\n"
     ]
    }
   ],
   "source": [
    "0 1 0 0 1\n",
    "1 0 1 0 0\n",
    "0 1 0 0 0\n",
    "0 0 0 0 0\n",
    "1 0 0 0 0\n",
    "3 5"
   ]
  },
  {
   "cell_type": "code",
   "execution_count": null,
   "id": "7e080e51",
   "metadata": {},
   "outputs": [],
   "source": []
  },
  {
   "cell_type": "code",
   "execution_count": null,
   "id": "9fc01b19",
   "metadata": {},
   "outputs": [],
   "source": []
  },
  {
   "cell_type": "code",
   "execution_count": null,
   "id": "1a40e6cb",
   "metadata": {},
   "outputs": [],
   "source": [
    "stack = []\n"
   ]
  },
  {
   "cell_type": "markdown",
   "id": "1c515acc",
   "metadata": {},
   "source": [
    "# 37. Путь в графе"
   ]
  },
  {
   "cell_type": "code",
   "execution_count": 1,
   "id": "c9ca8e0d",
   "metadata": {},
   "outputs": [],
   "source": [
    "n = 10\n",
    "arr = [list(map(int, '0 1 0 0 0 0 0 0 0 0'.split())),\n",
    "       list(map(int, '1 0 0 1 1 0 1 0 0 0'.split())),\n",
    "       list(map(int, '0 0 0 0 1 0 0 0 1 0'.split())),\n",
    "       list(map(int, '0 1 0 0 0 0 1 0 0 0'.split())),\n",
    "       list(map(int, '0 1 1 0 0 0 0 0 0 1'.split())),\n",
    "       list(map(int, '0 0 0 0 0 0 1 0 0 1'.split())),\n",
    "       list(map(int, '0 1 0 1 0 1 0 0 0 0'.split())),\n",
    "       list(map(int, '0 0 0 0 0 0 0 0 1 0'.split())),\n",
    "       list(map(int, '0 0 1 0 0 0 0 1 0 0'.split())),\n",
    "       list(map(int, '0 0 0 0 1 1 0 0 0 0'.split()))] \n",
    "start, finish = 5, 4\n",
    "# 2"
   ]
  },
  {
   "cell_type": "code",
   "execution_count": 2,
   "id": "c74c0872",
   "metadata": {
    "scrolled": true
   },
   "outputs": [
    {
     "name": "stdout",
     "output_type": "stream",
     "text": [
      "[[], [], [], [], [], [], [], [], [], [], []] 5\n",
      "2\n",
      "5 2 4\n"
     ]
    }
   ],
   "source": [
    "# n = int(input())\n",
    "\n",
    "G = [[] for col in range(n+1)] \n",
    "for i in range(n):\n",
    "    row = arr[i]\n",
    "#     row = list(map(int, input().split()))\n",
    "    for j in range(n):\n",
    "        if row[j] == 1:\n",
    "            G[i+1].append(j+1)\n",
    "# print(G)\n",
    "# start, finish = map(int, input().split())\n",
    "\n",
    "# Посещенные \n",
    "visited = [-1]*(n+1)\n",
    "# Очередь\n",
    "queue = []\n",
    "# \n",
    "path = [[] for col in range(n+1)] \n",
    "# print(path, start)\n",
    "queue = [start]\n",
    "now = queue[0]\n",
    "visited[start] = 0\n",
    "#print()\n",
    "path[start].append(start)\n",
    "\n",
    "#print('path = ', path)\n",
    "\n",
    "#print('visited = ', visited)\n",
    "#print('queue = ', queue)\n",
    "queue2 = []\n",
    "step = 1\n",
    "\n",
    "res = 0\n",
    "\n",
    "while now != finish and len(queue) != 0:\n",
    "    now = queue[0]\n",
    "    \n",
    "    neigs = G[now]\n",
    "    #print(neigs)\n",
    "    for neig in neigs:\n",
    "        if visited[neig] == -1:\n",
    "            visited[neig] = step\n",
    "            path[neig] = path[now].copy()\n",
    "            path[neig].append(neig)\n",
    "            #print('1path = ', path)\n",
    "            \n",
    "            queue2.append(neig)\n",
    "    #print('path = ', path)\n",
    "    queue.pop(0)\n",
    "    if len(queue) == 0:\n",
    "        queue = queue2\n",
    "        queue2 = []\n",
    "        step += 1\n",
    "    #print('visited = ', visited)\n",
    "    #print('queue = ', queue)\n",
    "if start == finish:\n",
    "    print(0)\n",
    "    print(start)\n",
    "elif visited[now] == 0:\n",
    "    print(-1)\n",
    "else:\n",
    "    print(visited[now])\n",
    "    print(*path[now])"
   ]
  },
  {
   "cell_type": "markdown",
   "id": "cee75bbb",
   "metadata": {},
   "source": [
    "# 38. Блохи"
   ]
  },
  {
   "cell_type": "code",
   "execution_count": null,
   "id": "a0531de7",
   "metadata": {},
   "outputs": [],
   "source": []
  },
  {
   "cell_type": "markdown",
   "id": "bbe46e2b",
   "metadata": {},
   "source": [
    "# 39. Путь спелеолога"
   ]
  },
  {
   "cell_type": "code",
   "execution_count": null,
   "id": "86579b03",
   "metadata": {},
   "outputs": [],
   "source": []
  },
  {
   "cell_type": "markdown",
   "id": "30758dd8",
   "metadata": {},
   "source": [
    "# 40. Метро"
   ]
  },
  {
   "cell_type": "code",
   "execution_count": null,
   "id": "808fc703",
   "metadata": {},
   "outputs": [],
   "source": [
    " "
   ]
  }
 ],
 "metadata": {
  "kernelspec": {
   "display_name": "Python 3 (ipykernel)",
   "language": "python",
   "name": "python3"
  },
  "language_info": {
   "codemirror_mode": {
    "name": "ipython",
    "version": 3
   },
   "file_extension": ".py",
   "mimetype": "text/x-python",
   "name": "python",
   "nbconvert_exporter": "python",
   "pygments_lexer": "ipython3",
   "version": "3.9.7"
  }
 },
 "nbformat": 4,
 "nbformat_minor": 5
}
