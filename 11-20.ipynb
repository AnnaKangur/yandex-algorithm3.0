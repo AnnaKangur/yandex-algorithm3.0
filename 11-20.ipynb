{
 "cells": [
  {
   "cell_type": "markdown",
   "id": "faf5b423",
   "metadata": {},
   "source": [
    "https://contest.yandex.ru/contest/45468/problems/11/"
   ]
  },
  {
   "cell_type": "markdown",
   "id": "c6d90375",
   "metadata": {},
   "source": [
    "# 11. Стек с защитой от ошибок"
   ]
  },
  {
   "cell_type": "markdown",
   "id": "ca1cfffd",
   "metadata": {},
   "source": [
    " stack для целых чисел\n",
    " \n",
    "* push n - Добавить в стек число n (значение n задается после команды). Программа должна вывести ok.\n",
    "* pop - Удалить из стека последний элемент. Программа должна вывести его значение.\n",
    "* back - Программа должна вывести значение последнего элемента, не удаляя его из стека.\n",
    "* size - Программа должна вывести количество элементов в стеке.\n",
    "* clear - Программа должна очистить стек и вывести ok.\n",
    "* exit - Программа должна вывести bye и завершить работу."
   ]
  },
  {
   "cell_type": "code",
   "execution_count": null,
   "id": "247369e4",
   "metadata": {},
   "outputs": [],
   "source": [
    "stack = []\n",
    "Input = 'start'\n",
    "while Input[0] != 'exit':\n",
    "    Input = input().split()\n",
    "    \n",
    "    if Input[0] == 'push':\n",
    "        n = int(Input[1])\n",
    "        stack.append(n)\n",
    "        print('ok')\n",
    "        \n",
    "    elif Input[0] == 'pop':\n",
    "        if len(stack) == 0:\n",
    "            print('error')\n",
    "        else:\n",
    "            print(stack.pop())\n",
    "            \n",
    "    elif Input[0] == 'back':\n",
    "        if len(stack) == 0:\n",
    "            print('error')\n",
    "        else:\n",
    "            print(stack[len(stack)-1])\n",
    "            \n",
    "    elif Input[0] == 'size':\n",
    "        print(len(stack))\n",
    "        \n",
    "    elif Input[0] == 'clear':\n",
    "        stack.clear()\n",
    "        print('ok')  \n",
    "else:\n",
    "    print('bye')"
   ]
  },
  {
   "cell_type": "markdown",
   "id": "2d314da7",
   "metadata": {},
   "source": [
    "# 12. Правильная скобочная последовательность"
   ]
  },
  {
   "cell_type": "code",
   "execution_count": 14,
   "id": "f3ea6a5a",
   "metadata": {},
   "outputs": [
    {
     "name": "stdout",
     "output_type": "stream",
     "text": [
      "([)]\n",
      "no\n"
     ]
    }
   ],
   "source": [
    "s = list(input())\n",
    "stack = []\n",
    "res = 'yes'\n",
    "for i in range(len(s)):\n",
    "    if s[i] == '(' or s[i] == '{' or s[i] == '[':\n",
    "        stack.append(s[i])\n",
    "    if s[i] == ')' or s[i] == '}' or s[i] == ']':\n",
    "        if len(stack) == 0:\n",
    "            res = 'no'\n",
    "            break\n",
    "        elif s[i] == ')' and stack[len(stack)-1] == '(':\n",
    "            stack.pop()\n",
    "        elif s[i] == '}' and stack[len(stack)-1] == '{' :\n",
    "            stack.pop()\n",
    "        elif s[i] == ']' and stack[len(stack)-1] == '[':\n",
    "            stack.pop()\n",
    "        else:    \n",
    "            res = 'no'\n",
    "            break\n",
    "if len(stack) != 0:\n",
    "    res = 'no'     \n",
    "print(res)"
   ]
  },
  {
   "cell_type": "markdown",
   "id": "0dcde3ca",
   "metadata": {},
   "source": [
    "# 13. Постфиксная запись"
   ]
  },
  {
   "cell_type": "code",
   "execution_count": 16,
   "id": "4572f781",
   "metadata": {},
   "outputs": [
    {
     "data": {
      "text/plain": [
       "['8', '9', '+', '1', '7', '-', '*']"
      ]
     },
     "execution_count": 16,
     "metadata": {},
     "output_type": "execute_result"
    }
   ],
   "source": [
    "# s = input().split()\n",
    "s = '8 9 + 1 7 - *'.split()\n",
    "s"
   ]
  },
  {
   "cell_type": "code",
   "execution_count": 18,
   "id": "cb7b2a34",
   "metadata": {},
   "outputs": [
    {
     "name": "stdout",
     "output_type": "stream",
     "text": [
      "-102\n"
     ]
    }
   ],
   "source": [
    "s = input().split()\n",
    "stack = []\n",
    "for i in range(len(s)):\n",
    "    if s[i]=='+' or s[i]=='-' or s[i]=='*':\n",
    "        if len(stack) > 1:\n",
    "            b = stack.pop()\n",
    "            a = stack.pop()\n",
    "            if s[i]=='+':\n",
    "                c = a + b\n",
    "            elif s[i]=='-':\n",
    "                c = a - b\n",
    "            elif s[i]=='*':\n",
    "                c = a * b\n",
    "        stack.append(c)\n",
    "    else:\n",
    "        stack.append(int(s[i]))\n",
    "print(*stack)"
   ]
  },
  {
   "cell_type": "markdown",
   "id": "71ee3254",
   "metadata": {},
   "source": [
    "# 14. Сортировка вагонов lite"
   ]
  },
  {
   "cell_type": "code",
   "execution_count": null,
   "id": "153f39e1",
   "metadata": {},
   "outputs": [],
   "source": [
    "N = int(input())\n",
    "wagons = list(map(int, input().split()))"
   ]
  },
  {
   "cell_type": "code",
   "execution_count": 19,
   "id": "b9407445",
   "metadata": {},
   "outputs": [],
   "source": [
    "N = 3\n",
    "wagons =  list(map(int, '3 2 1'.split()))"
   ]
  },
  {
   "cell_type": "code",
   "execution_count": 29,
   "id": "dc880bca",
   "metadata": {},
   "outputs": [],
   "source": [
    "N = 4\n",
    "wagons =  list(map(int, '4 1 3 2'.split()))"
   ]
  },
  {
   "cell_type": "code",
   "execution_count": 32,
   "id": "0bd89e41",
   "metadata": {},
   "outputs": [],
   "source": [
    "N = 3\n",
    "wagons =  list(map(int, '2 3 1'.split())) "
   ]
  },
  {
   "cell_type": "code",
   "execution_count": 33,
   "id": "a8a0a7e6",
   "metadata": {},
   "outputs": [
    {
     "data": {
      "text/plain": [
       "[0, 1]"
      ]
     },
     "execution_count": 33,
     "metadata": {},
     "output_type": "execute_result"
    }
   ],
   "source": [
    "N = int(input())\n",
    "wagons = list(map(int, input().split()))\n",
    "\n",
    "stack = []\n",
    "wagons_sort = [0]\n",
    "\n",
    "for i in range(N):\n",
    "    stack.append(wagons[i])\n",
    "    while len(stack) > 0 and stack[-1]-1 == wagons_sort[-1]:\n",
    "        wagons_sort.append(stack.pop())\n",
    "res = 'NO' if len(stack) > 0 else 'YES'\n",
    "print(res)"
   ]
  },
  {
   "cell_type": "markdown",
   "id": "00d4aca5",
   "metadata": {},
   "source": [
    "# 15. Великое Лайнландское переселение"
   ]
  },
  {
   "cell_type": "code",
   "execution_count": 35,
   "id": "481b48c0",
   "metadata": {},
   "outputs": [],
   "source": [
    "# средняя цена проживания меньше, чем в родном\n",
    "N = 10\n",
    "cost = list(map(int, '1 2 3 2 1 4 2 5 3 1'.split()))"
   ]
  },
  {
   "cell_type": "code",
   "execution_count": 38,
   "id": "5f0b98b0",
   "metadata": {},
   "outputs": [],
   "source": [
    "res = [-1]*N"
   ]
  },
  {
   "cell_type": "code",
   "execution_count": 52,
   "id": "7f732dfe",
   "metadata": {},
   "outputs": [],
   "source": [
    "N = 10\n",
    "cost = list(map(int, '65 51 79 36 2 47 92 30 25 94'.split()))"
   ]
  },
  {
   "cell_type": "code",
   "execution_count": 53,
   "id": "7f7a5617",
   "metadata": {},
   "outputs": [
    {
     "name": "stdout",
     "output_type": "stream",
     "text": [
      "1 3 3 4 -1 7 7 8 -1 -1\n"
     ]
    }
   ],
   "source": [
    "# N = int(input())\n",
    "# cost = list(map(int, input().split()))\n",
    "res = [-1]*N\n",
    "stack = []\n",
    "for i in range(N):\n",
    "\n",
    "    if len(stack) == 0:\n",
    "        stack.append([cost[i], i])\n",
    "        \n",
    "    elif len(stack) > 0:\n",
    "        while len(stack) > 0 and stack[-1][0] > cost[i]:\n",
    "            res[stack[-1][1]] = i\n",
    "            stack.pop()\n",
    "        stack.append([cost[i], i])            \n",
    "print(*res)"
   ]
  },
  {
   "cell_type": "markdown",
   "id": "df5c22f7",
   "metadata": {},
   "source": [
    "# 16. Очередь с защитой от ошибок"
   ]
  },
  {
   "cell_type": "markdown",
   "id": "cb588e7e",
   "metadata": {},
   "source": [
    "queue для целых чисел\n",
    "* push n - Добавить в очередь число n (значение n задается после команды). Программа должна вывести ok.\n",
    "* pop - Удалить из очереди первый элемент. Программа должна вывести его значение.\n",
    "* front - Программа должна вывести значение первого элемента, не удаляя его из очереди.\n",
    "* size - Программа должна вывести количество элементов в очереди.\n",
    "* clear - Программа должна очистить очередь и вывести ok.\n",
    "* exit - Программа должна вывести bye и завершить работу.\n",
    "\n",
    "Если во входных данных встречается операция front или pop, и при этом очередь пуста, то программа должна вместо числового значения вывести строку error."
   ]
  },
  {
   "cell_type": "code",
   "execution_count": null,
   "id": "252f365f",
   "metadata": {},
   "outputs": [],
   "source": [
    "queue = []\n",
    "Input = 'start'\n",
    "\n",
    "while Input[0] != 'exit':\n",
    "    Input = input().split()\n",
    "    \n",
    "    if Input[0] == 'push':\n",
    "        n = int(Input[1])\n",
    "        queue.append(n)\n",
    "        print('ok')\n",
    "        \n",
    "    elif Input[0] == 'pop':\n",
    "        if len(queue) == 0:\n",
    "            print('error')\n",
    "        else:\n",
    "            print(queue.pop(0))\n",
    "            \n",
    "    elif Input[0] == 'front':\n",
    "        if len(queue) == 0:\n",
    "            print('error')\n",
    "        else:\n",
    "            print(queue[0])\n",
    "            \n",
    "    elif Input[0] == 'size':\n",
    "        print(len(queue))\n",
    "        \n",
    "    elif Input[0] == 'clear':\n",
    "        queue.clear()\n",
    "        print('ok')  \n",
    "else:\n",
    "    print('bye')"
   ]
  },
  {
   "cell_type": "markdown",
   "id": "e1f92e00",
   "metadata": {},
   "source": [
    "# 17. Игра в пьяницу"
   ]
  },
  {
   "cell_type": "code",
   "execution_count": 11,
   "id": "db99d0c6",
   "metadata": {},
   "outputs": [],
   "source": [
    "queue1 = list(map(int, '1 3 5 7 9'.split()))\n",
    "queue2 = list(map(int, '2 4 6 8 0'.split()))"
   ]
  },
  {
   "cell_type": "code",
   "execution_count": 9,
   "id": "69ba2571",
   "metadata": {},
   "outputs": [],
   "source": [
    "queue1 = list(map(int, '1 7 3 9 4'.split()))\n",
    "queue2 = list(map(int, '5 8 0 2 6'.split()))"
   ]
  },
  {
   "cell_type": "code",
   "execution_count": 12,
   "id": "0d3c00d9",
   "metadata": {},
   "outputs": [
    {
     "name": "stdout",
     "output_type": "stream",
     "text": [
      "second 5\n"
     ]
    }
   ],
   "source": [
    "# queue1 = list(map(int, input().split()))\n",
    "# queue2 = list(map(int, input().split()))\n",
    "step = 0\n",
    "while step < 10**6 and len(queue1)*len(queue2) > 0:\n",
    "    step += 1\n",
    "    if queue1[0] == 0 and queue2[0] == 9:\n",
    "        win = 1\n",
    "    elif queue1[0] == 9 and queue2[0] == 0:\n",
    "        win = 2      \n",
    "    elif queue1[0] > queue2[0]:\n",
    "        win = 1\n",
    "    elif queue1[0] < queue2[0]:\n",
    "        win = 2\n",
    "    \n",
    "    if win == 1:      \n",
    "        queue1.append(queue1.pop(0))\n",
    "        queue1.append(queue2.pop(0))\n",
    "    elif win == 2:  \n",
    "        queue2.append(queue1.pop(0))\n",
    "        queue2.append(queue2.pop(0)) \n",
    "        \n",
    "res = 'second' if len(queue1) == 0 else 'first'\n",
    "print(res,step)"
   ]
  },
  {
   "cell_type": "markdown",
   "id": "7015e96f",
   "metadata": {},
   "source": [
    "# 18. Дек с защитой от ошибок"
   ]
  },
  {
   "cell_type": "code",
   "execution_count": null,
   "id": "9881ccc6",
   "metadata": {},
   "outputs": [],
   "source": [
    "deque = []\n",
    "Input = 'start'\n",
    "\n",
    "while Input[0] != 'exit':\n",
    "    Input = input().split()\n",
    "    \n",
    "    # Добавить (положить) в начало дека новый элемент. Программа должна вывести ok.\n",
    "    if Input[0] == 'push_front':\n",
    "        n = int(Input[1])\n",
    "        deque.insert(0, n)\n",
    "        print('ok')\n",
    "        \n",
    "    # Добавить (положить) в конец дека новый элемент. Программа должна вывести ok.\n",
    "    if Input[0] == 'push_back':\n",
    "        n = int(Input[1])\n",
    "        deque.append(n)\n",
    "        print('ok')\n",
    "        \n",
    "    # Извлечь из дека первый элемент. Программа должна вывести его значение.    \n",
    "    elif Input[0] == 'pop_front':\n",
    "        if len(deque) == 0:\n",
    "            print('error')\n",
    "        else:\n",
    "            print(deque.pop(0))\n",
    "    \n",
    "    # Извлечь из дека последний элемент. Программа должна вывести его значение.\n",
    "    elif Input[0] == 'pop_back':\n",
    "        if len(deque) == 0:\n",
    "            print('error')\n",
    "        else:\n",
    "            print(deque.pop())\n",
    "    \n",
    "    # Узнать значение первого элемента (не удаляя его). Программа должна вывести его значение.       \n",
    "    elif Input[0] == 'front':\n",
    "        if len(deque) == 0:\n",
    "            print('error')\n",
    "        else:\n",
    "            print(deque[0])\n",
    "    \n",
    "    # Узнать значение последнего элемента (не удаляя его). Программа должна вывести его значение.       \n",
    "    elif Input[0] == 'back':\n",
    "        if len(deque) == 0:\n",
    "            print('error')\n",
    "        else:\n",
    "            print(deque[-1])\n",
    "    \n",
    "    # Вывести количество элементов в деке.\n",
    "    elif Input[0] == 'size':\n",
    "        print(len(deque))\n",
    "        \n",
    "    elif Input[0] == 'clear':\n",
    "        deque.clear()\n",
    "        print('ok')  \n",
    "else:\n",
    "    print('bye')"
   ]
  },
  {
   "cell_type": "markdown",
   "id": "d6616e3f",
   "metadata": {},
   "source": [
    "# 19. Хипуй"
   ]
  },
  {
   "cell_type": "markdown",
   "id": "7d7dabb5",
   "metadata": {},
   "source": [
    "Heap для хранения целых чисел, над которой определены следующие операции: \n",
    "* Insert(k) – добавить в Heap число k ; \n",
    "* Extract достать из Heap наибольшее число (удалив его при этом)."
   ]
  },
  {
   "cell_type": "code",
   "execution_count": null,
   "id": "df6e8de0",
   "metadata": {},
   "outputs": [],
   "source": [
    "Heap = []\n",
    "N = int(input())\n",
    "for i in range(N):\n",
    "    command = list(map(int, input().split()))\n",
    "    if command[0] == 0: #добавить в Heap число k\n",
    "        k = command[1]\n",
    "        Heap.append(k)\n",
    "        pos = len(Heap)-1\n",
    "        while pos > 0 and Heap[pos] > Heap[(pos-1)//2]:\n",
    "            Heap[pos], Heap[(pos-1)//2] = Heap[(pos-1)//2],Heap[pos]\n",
    "            pos = (pos-1)//2\n",
    "    elif command[0] == 1:\n",
    "        ans = Heap[0]\n",
    "        Heap[0] = Heap[-1]\n",
    "        pos = 0\n",
    "        while pos*2+2 < len(Heap): # пока есть двое детей\n",
    "            son_index = pos*2+1 if Heap[pos*2+1] > Heap[pos*2+2] else pos*2+2\n",
    "            if Heap[pos] < Heap[son_index]:\n",
    "                Heap[pos] , Heap[son_index] = Heap[son_index],  Heap[pos]\n",
    "                pos = son_index\n",
    "            else:\n",
    "                break\n",
    "        Heap.pop()\n",
    "        print(ans)     "
   ]
  },
  {
   "cell_type": "markdown",
   "id": "b5ccbcf8",
   "metadata": {},
   "source": [
    "# 20. Пирамидальная сортировка"
   ]
  },
  {
   "cell_type": "code",
   "execution_count": null,
   "id": "29650b1a",
   "metadata": {},
   "outputs": [],
   "source": [
    "N = int(input())\n",
    "arr = list(map(int, input().split()))\n",
    "arr.sort()\n",
    "print(*arr)"
   ]
  },
  {
   "cell_type": "code",
   "execution_count": null,
   "id": "50044a31",
   "metadata": {},
   "outputs": [],
   "source": []
  }
 ],
 "metadata": {
  "kernelspec": {
   "display_name": "Python 3 (ipykernel)",
   "language": "python",
   "name": "python3"
  },
  "language_info": {
   "codemirror_mode": {
    "name": "ipython",
    "version": 3
   },
   "file_extension": ".py",
   "mimetype": "text/x-python",
   "name": "python",
   "nbconvert_exporter": "python",
   "pygments_lexer": "ipython3",
   "version": "3.9.7"
  }
 },
 "nbformat": 4,
 "nbformat_minor": 5
}
