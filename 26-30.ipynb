{
 "cells": [
  {
   "cell_type": "markdown",
   "id": "9dadcad4",
   "metadata": {},
   "source": [
    "# 26. Самый дешевый путь"
   ]
  },
  {
   "cell_type": "code",
   "execution_count": 23,
   "id": "32af0ac6",
   "metadata": {},
   "outputs": [],
   "source": [
    "N, M = 5, 5\n",
    "arr = [list(map(int, '1 1 1 1 1'.split())),\n",
    "       list(map(int, '3 100 100 100 100'.split())),\n",
    "       list(map(int, '1 1 1 1 1'.split())),\n",
    "       list(map(int, '2 2 2 2 1'.split())),\n",
    "       list(map(int, '1 1 1 1 1'.split()))]\n",
    "# 11"
   ]
  },
  {
   "cell_type": "code",
   "execution_count": 25,
   "id": "cb2bb129",
   "metadata": {},
   "outputs": [],
   "source": [
    "# 4 тест\n",
    "N, M = 5, 6\n",
    "arr = [list(map(int, '67 31 16 37 42 8'.split())),\n",
    "       list(map(int, '47 7 84 5 29 91'.split())),\n",
    "       list(map(int, '36 77 32 69 84 71'.split())),\n",
    "       list(map(int, '30 16 32 46 24 82'.split())),\n",
    "       list(map(int, '27 48 14 87 28 77'.split()))]"
   ]
  },
  {
   "cell_type": "code",
   "execution_count": null,
   "id": "7651a4d2",
   "metadata": {},
   "outputs": [],
   "source": [
    "import math\n",
    "\n",
    "N, M = map(int, input().split())\n",
    "arr = []\n",
    "for i in range(N):\n",
    "    arr.append(list(map(int, input().split())))\n",
    "    \n",
    "dp = [[math.inf for col in range(M+1)] for row in range(N+1)] \n",
    "dp[0][1] = 0\n",
    "dp[1][0] = 0    \n",
    "\n",
    "for i in range(1,N+1):\n",
    "    for j in range(1,M+1):\n",
    "        dp[i][j] = min(dp[i-1][j], dp[i][j-1]) + arr[i-1][j-1]\n",
    "print(dp[-1][-1])"
   ]
  },
  {
   "cell_type": "markdown",
   "id": "2c7ea21a",
   "metadata": {},
   "source": [
    "# 27. Вывести маршрут максимальной стоимости"
   ]
  },
  {
   "cell_type": "code",
   "execution_count": 48,
   "id": "d71f722a",
   "metadata": {},
   "outputs": [],
   "source": [
    "N, M = 5, 5\n",
    "arr = [list(map(int, '9 9 9 9 9'.split())),\n",
    "       list(map(int, '3 0 0 0 0'.split())),\n",
    "       list(map(int, '9 9 9 9 9'.split())),\n",
    "       list(map(int, '6 6 6 6 8'.split())),\n",
    "       list(map(int, '9 9 9 9 9'.split()))]\n",
    "# 74\n",
    "# D D R R R R D D\n",
    "\n",
    "# D - вниз\n",
    "# R - направо"
   ]
  },
  {
   "cell_type": "code",
   "execution_count": 86,
   "id": "afd78196",
   "metadata": {},
   "outputs": [],
   "source": [
    "N, M = 2, 2\n",
    "arr = [[1, 2], \n",
    "       [3, 1]]"
   ]
  },
  {
   "cell_type": "code",
   "execution_count": 93,
   "id": "96dcab20",
   "metadata": {},
   "outputs": [],
   "source": [
    "N, M = 5, 5\n",
    "arr = [[1, 2, 1, 1, 1], \n",
    "       [3, 1, 1, 1, 1],\n",
    "       [1, 1, 1, 1, 1],\n",
    "       [1, 1, 1, 1, 1],\n",
    "       [1, 1, 1, 1, 1]]"
   ]
  },
  {
   "cell_type": "code",
   "execution_count": 154,
   "id": "e28e01ac",
   "metadata": {
    "scrolled": false
   },
   "outputs": [
    {
     "name": "stdout",
     "output_type": "stream",
     "text": [
      "74\n",
      "D D R R R R D D \n"
     ]
    }
   ],
   "source": [
    "N, M = map(int, input().split())\n",
    "arr = []\n",
    "for i in range(N):\n",
    "    arr.append(list(map(int, input().split())))\n",
    "    \n",
    "dp = [[0 for col in range(M+1)] for row in range(N+1)] \n",
    "\n",
    "path = [['' for col in range(M+1)] for row in range(N+1)] \n",
    "\n",
    "for i in range(1,N+1):\n",
    "    for j in range(1,M+1):\n",
    "        if dp[i-1][j] >= dp[i][j-1]:\n",
    "            dp[i][j] = dp[i-1][j] + arr[i-1][j-1]\n",
    "            path[i][j] = path[i-1][j] + 'D '\n",
    "        else:\n",
    "            dp[i][j] = dp[i][j-1] + arr[i-1][j-1]\n",
    "            path[i][j] = path[i][j-1] + 'R '\n",
    "        if i==1 and j==1:\n",
    "            path[i][j] = ''\n",
    "print(dp[-1][-1])\n",
    "print(path[-1][-1])"
   ]
  },
  {
   "cell_type": "markdown",
   "id": "3b190f89",
   "metadata": {},
   "source": [
    "# 28. Ход конём"
   ]
  },
  {
   "cell_type": "code",
   "execution_count": null,
   "id": "c84e869c",
   "metadata": {},
   "outputs": [],
   "source": [
    "# Конь может перемещаться:\n",
    "#     на две клетки вниз и одну клетку вправо \n",
    "#     на одну клетку вниз и две клетки вправо\n",
    "# Сколько существует различных маршрутов, ведущих из левого верхнего в правый нижний угол"
   ]
  },
  {
   "cell_type": "code",
   "execution_count": 175,
   "id": "0c074f2b",
   "metadata": {},
   "outputs": [],
   "source": [
    "di = [1, 2]\n",
    "dj = [2, 1]"
   ]
  },
  {
   "cell_type": "code",
   "execution_count": 236,
   "id": "cfbcdc69",
   "metadata": {},
   "outputs": [
    {
     "name": "stdout",
     "output_type": "stream",
     "text": [
      "1\n"
     ]
    }
   ],
   "source": [
    "# N, M = 6, 6\n",
    "\n",
    "# N, M = 31, 34\n",
    "# 293930\n",
    "\n",
    "# N, M = 3, 2\n",
    "\n",
    "N, M = map(int, input().split())\n",
    "\n",
    "dp = [[0 for col in range(M)] for row in range(N)] \n",
    "\n",
    "for i in range(N):\n",
    "    for j in range(M):\n",
    "        # print(i, j)\n",
    "        if i-1 == 0 and j-2 == 0:\n",
    "            dp[i][j] = 1\n",
    "        elif i-2 == 0 and j-1 == 0:  \n",
    "            dp[i][j] = 1\n",
    "        elif i-1 >= 0 and j-2 >= 0 and i-2 >= 0 and j-1 >= 0:\n",
    "            dp[i][j] = dp[i-1][j-2] + dp[i-2][j-1]\n",
    "\n",
    "if N == 1 and M == 1:\n",
    "    print(1)\n",
    "else: \n",
    "    print(dp[-1][-1])"
   ]
  },
  {
   "cell_type": "markdown",
   "id": "9e472fef",
   "metadata": {},
   "source": [
    "# 29. Кафе"
   ]
  },
  {
   "cell_type": "markdown",
   "id": "f82b9888",
   "metadata": {},
   "source": [
    "В первой строке входного файла записано целое число N (0 ≤ N ≤ 100). В каждой из последующих N строк записано одно целое число, обозначающее стоимость обеда в рублях на соответствующий день. Стоимость — неотрицательное целое число, не превосходящее 300."
   ]
  },
  {
   "cell_type": "code",
   "execution_count": null,
   "id": "2c55fefc",
   "metadata": {},
   "outputs": [],
   "source": [
    "N = int(input())\n",
    "P = []\n",
    "for i in range(N):\n",
    "    P.append(int(input()))"
   ]
  },
  {
   "cell_type": "markdown",
   "id": "21bca1e2",
   "metadata": {},
   "source": [
    "В первой строке выдайте минимальную возможную суммарную стоимость обедов. \n",
    "\n",
    "Во второй строке выдайте два числа:\n",
    "* K1 - количество неиспользованныx купонов \n",
    "* K2 - количество использованных купонов\n",
    "\n",
    "В последующих K2 строках выдайте в возрастающем порядке номера дней, когда Пете следует воспользоваться купонами.\n",
    "\n",
    "Если существует несколько решений с минимальной суммарной стоимостью, то выдайте то из них, в котором значение K1 максимально (на случай, если Петя когда-нибудь ещё решит заглянуть в это кафе). Если таких решений несколько, выведите любое из них."
   ]
  },
  {
   "cell_type": "code",
   "execution_count": 285,
   "id": "83e68090",
   "metadata": {},
   "outputs": [
    {
     "name": "stdout",
     "output_type": "stream",
     "text": [
      "220\n",
      "1 0\n",
      "\n"
     ]
    }
   ],
   "source": [
    "N = int(input())\n",
    "P = [0]\n",
    "for i in range(N):\n",
    "    P.append(int(input()))\n",
    "    \n",
    "# N = 5\n",
    "# P = [0, 35, 40, 101, 59, 63]\n",
    "\n",
    "\n",
    "import math\n",
    "\n",
    "dp = [[math.inf for col in range(N+2)] for row in range(N+1)] \n",
    "dp[0][0] = 0 \n",
    "dp\n",
    "\n",
    "\n",
    "for day in range(1, N+1):\n",
    "    # print(P[day])\n",
    "    if P[day] > 100:\n",
    "        coupon = 0\n",
    "        dp[day][coupon] = dp[day-1][coupon+1]\n",
    "        for coupon in range(1,N+1):\n",
    "            # print('!!!')\n",
    "            dp[day][coupon] = min(dp[day-1][coupon-1] + P[day], dp[day-1][coupon+1])\n",
    "    else:\n",
    "        for coupon in range(N):\n",
    "            dp[day][coupon] = min(dp[day-1][coupon] + P[day], \n",
    "                                  dp[day-1][coupon+1])\n",
    "            \n",
    "# print(dp)            \n",
    "\n",
    "Smin = min(dp[:][N])\n",
    "print(Smin)\n",
    "\n",
    "# ind = dp[:][N].index(Smin)\n",
    "ind = (N+2) - dp[:][N][::-1].index(Smin) - 1\n",
    "ind\n",
    "coupon_day = []\n",
    "K1 = ind\n",
    "K2 = 0 # used\n",
    "\n",
    "for i in range(N, -1, -1): \n",
    "    # print(path, dp[:][i])\n",
    "    if dp[i-1][ind+1] == dp[i][ind]:\n",
    "        coupon_day.append(i)\n",
    "        K2 += 1\n",
    "        ind += 1\n",
    "    elif dp[i-1][ind] + P[i] == dp[i][ind]:\n",
    "        ind = ind\n",
    "    elif dp[i-1][ind-1] + P[i] == dp[i][ind] and ind != 0:\n",
    "        ind = ind-1  \n",
    "\n",
    "print(K1, K2)\n",
    "print(*coupon_day[::-1])"
   ]
  },
  {
   "cell_type": "markdown",
   "id": "6adf8b0f",
   "metadata": {},
   "source": [
    "# 30. НОП с восстановлением ответа"
   ]
  },
  {
   "cell_type": "code",
   "execution_count": 418,
   "id": "3774266c",
   "metadata": {},
   "outputs": [],
   "source": [
    "N = 3\n",
    "A = [1, 2, 3]\n",
    "M = 3 \n",
    "B = [2, 3, 1]\n",
    "# 2 3 "
   ]
  },
  {
   "cell_type": "code",
   "execution_count": 308,
   "id": "55fbb54f",
   "metadata": {},
   "outputs": [],
   "source": [
    "N = 3\n",
    "A = [1, 2, 3]\n",
    "M = 3 \n",
    "B = [1, 2, 5]\n",
    "# 1 2"
   ]
  },
  {
   "cell_type": "code",
   "execution_count": 270,
   "id": "e3512f46",
   "metadata": {},
   "outputs": [],
   "source": [
    "N = 3\n",
    "A = [1, 2, 3]\n",
    "M = 3 \n",
    "B = [1, 2, 3]"
   ]
  },
  {
   "cell_type": "code",
   "execution_count": 348,
   "id": "32c81393",
   "metadata": {},
   "outputs": [],
   "source": [
    "N = 3\n",
    "A = [1, 2, 4]\n",
    "M = 3 \n",
    "B = [1, 2, 4]\n",
    "# 1 2 4"
   ]
  },
  {
   "cell_type": "code",
   "execution_count": 411,
   "id": "21504f34",
   "metadata": {},
   "outputs": [],
   "source": [
    "N = 3\n",
    "A = [1, 2, 3]\n",
    "M = 3 \n",
    "B = [3, 2, 1]\n",
    "# 1 "
   ]
  },
  {
   "cell_type": "code",
   "execution_count": 468,
   "id": "7bada664",
   "metadata": {},
   "outputs": [],
   "source": [
    "N = 6\n",
    "A = [6, 3, 7, 1, 2, 8]\n",
    "M = 6\n",
    "B = [1, 6, 3, 8, 9, 5]\n",
    "# 1 "
   ]
  },
  {
   "cell_type": "code",
   "execution_count": 466,
   "id": "f2d38f05",
   "metadata": {},
   "outputs": [],
   "source": [
    "N = 3\n",
    "A = [1, 1, 1]\n",
    "M = 3 \n",
    "B = [2, 2, 2]\n",
    "# 1 "
   ]
  },
  {
   "cell_type": "code",
   "execution_count": 459,
   "id": "a4259037",
   "metadata": {},
   "outputs": [],
   "source": [
    "N = 10\n",
    "A = list(map(int, '1 2 3 4 5 6 7 8 9 10'.split()))\n",
    "# M = 100\n",
    "# B = list(map(int, '17 17 17 18 18 18 19 19 19 20 17 17 17 18 18 18 19 19 19 20 17 17 17 18 18 18 19 19 19 20 17 17 17 18 18 18 19 19 19 20 17 17 17 18 18 18 19 19 19 20 17 17 17 18 18 18 19 19 19 20 17 17 17 18 18 18 19 19 19 20 17 17 17 18 18 18 19 19 19 20 100 1 100 2 3 100 100 100 4 100 5 100 100 100 6 7 8 9 100 10'.split()))\n",
    "\n",
    "B = list(map(int, '19 20 100 1 100 2 3 100 100 100 4 100 5 100 100 100 6 7 8 9 100 10'.split()))\n",
    "M = len(B)"
   ]
  },
  {
   "cell_type": "code",
   "execution_count": 470,
   "id": "6084e5d0",
   "metadata": {},
   "outputs": [],
   "source": [
    "# 14\n",
    "N = 1000\n",
    "A = list(map(int, '7 8 13 0 1 4 2 11 3 13 4 6 3 13 7 7 6 13 4 5 6 6 5 2 4 9 2 7 8 0 1 9 4 3 2 12 11 1 4 4 1 4 12 6 12 9 12 4 7 6 2 5 6 11 12 1 2 9 7 4 9 1 1 5 5 13 12 6 8 8 7 6 6 8 11 1 1 11 3 13 7 12 11 11 2 2 1 3 4 7 9 0 1 13 13 11 7 1 9 9 3 2 10 6 3 2 1 6 7 4 11 10 13 11 1 5 10 9 9 12 2 10 5 1 8 7 11 11 6 0 13 10 1 8 8 8 6 0 10 1 8 2 13 6 4 13 12 8 11 12 12 0 6 9 7 3 9 10 9 7 9 4 1 5 10 3 3 9 11 10 12 5 11 13 9 10 4 6 12 12 10 7 10 0 2 7 4 1 3 8 2 9 0 12 6 3 2 10 9 8 9 11 7 2 11 0 2 8 3 13 3 9 2 7 8 1 2 8 4 9 6 7 4 5 10 7 2 9 12 8 4 8 1 0 3 8 12 5 8 9 6 13 2 6 9 5 7 11 1 7 8 1 13 13 13 5 0 0 5 9 10 10 0 11 9 10 9 9 1 11 9 2 8 12 12 3 9 11 4 9 10 8 10 4 12 12 2 10 9 10 8 4 11 3 8 11 3 11 13 10 9 11 10 4 8 1 10 7 5 11 12 0 8 9 5 9 4 7 7 13 1 1 6 8 4 2 9 10 7 4 1 0 7 4 7 9 2 1 10 1 13 13 2 1 0 5 6 11 12 0 11 0 4 8 4 2 2 8 11 10 7 6 3 12 6 8 2 0 1 12 0 13 11 10 3 9 9 12 6 8 13 5 1 9 10 11 5 10 11 4 7 3 2 4 10 2 0 6 7 12 0 1 0 2 8 4 0 4 10 0 3 10 0 13 9 10 0 3 11 8 9 2 4 11 10 6 9 9 13 10 3 8 5 6 9 8 13 6 3 8 10 2 0 4 9 0 4 8 10 8 7 1 0 3 8 0 10 8 4 1 3 6 13 10 1 1 13 5 7 0 4 11 1 10 6 11 11 12 1 9 5 0 9 6 6 11 11 5 9 13 8 1 10 7 3 11 8 2 13 0 4 5 0 10 13 6 2 1 6 9 11 2 10 4 10 0 11 9 11 12 2 2 9 12 1 13 7 3 0 6 3 6 5 0 8 13 3 11 6 13 9 7 0 7 1 0 13 11 6 12 11 0 10 13 12 13 12 1 4 1 7 5 5 12 12 2 4 3 3 7 0 11 5 5 9 1 10 1 6 13 6 3 3 8 11 5 0 9 1 12 10 13 10 5 7 4 13 5 2 12 13 2 10 8 13 8 13 0 0 2 11 3 10 6 5 13 10 9 7 12 12 0 3 0 3 0 12 10 1 1 11 11 3 11 11 11 7 10 9 2 5 7 2 13 9 5 13 13 0 10 11 6 0 7 12 13 6 5 2 13 11 3 8 5 8 10 8 10 4 2 8 10 0 8 9 4 2 13 1 12 9 1 7 5 7 13 10 8 1 0 4 3 13 11 9 9 13 8 13 10 5 10 0 12 6 0 4 10 6 4 2 11 7 12 10 2 12 12 8 10 4 5 10 9 1 8 2 9 11 1 7 13 7 5 5 7 8 5 12 5 0 10 2 7 4 2 7 0 13 2 13 1 0 9 0 3 11 3 1 10 1 5 9 6 9 2 1 0 13 8 1 6 8 12 9 4 3 6 11 0 2 10 13 2 12 12 4 1 1 7 12 13 10 2 4 11 8 13 12 9 7 10 5 8 10 11 5 7 4 8 2 7 12 4 2 3 7 3 11 7 5 5 2 13 10 1 10 7 7 0 2 0 12 9 10 9 6 7 0 6 5 10 12 4 11 13 7 2 12 11 13 5 0 6 13 3 12 2 0 4 0 6 12 9 6 11 2 11 8 7 7 13 6 9 9 6 13 5 12 2 3 4 2 9 5 10 13 7 7 7 1 10 2 4 11 7 2 1 13 3 10 10 0 13 11 13 7 2 9 0 7 5 8 5 3 11 9 4 0 13 12 8 13 10 6 1 7 5 7 5 0 1 1 8 13 12 1 11 3 5 10 4 9 11 8 9 3 5 8 2 4 11 12 7 11 9 8 12 11 10 12 4 13 12 11 5 1 0 5 12 5 8 8 8 8 10 5 13 3 6 7 1 8 3 1 8 10 4 3 6 9 8 4 3 13 2 2 5 3 13'.split()))\n",
    "M = 1000\n",
    "B = list(map(int, '3 2 11 5 2 13 2 9 7 9 4 13 9 0 3 7 4 8 5 5 11 2 7 11 2 0 5 5 9 7 12 0 2 9 12 7 6 3 6 2 1 7 9 1 2 4 1 4 10 4 13 10 0 7 9 4 8 9 3 13 5 9 8 11 1 5 13 13 10 4 5 3 3 6 13 13 4 1 3 12 8 1 4 7 4 10 7 5 10 11 0 9 7 5 6 5 11 8 2 10 3 8 3 2 12 0 6 11 9 10 13 6 2 10 8 10 0 2 8 10 12 9 13 0 5 4 13 9 10 2 11 13 2 8 11 9 13 1 3 8 5 3 4 9 3 11 10 10 4 6 13 4 3 7 7 9 9 0 11 8 10 13 11 11 0 10 10 7 13 11 4 9 1 0 8 4 1 7 5 2 13 1 5 4 7 9 6 13 7 2 0 0 13 7 6 0 13 13 4 8 7 0 5 4 7 7 5 10 5 7 13 2 5 11 2 1 9 4 0 10 1 6 9 0 0 1 7 8 1 7 5 5 12 6 12 5 5 6 12 2 5 13 12 11 6 10 4 2 11 10 0 3 1 12 4 2 12 9 11 1 3 9 2 5 10 3 7 2 10 11 8 0 7 6 1 10 12 6 3 0 4 12 4 13 3 13 13 8 10 13 3 6 3 8 6 7 12 12 3 1 1 2 11 13 4 13 0 7 9 2 6 12 13 4 1 1 12 4 5 9 13 13 7 11 1 6 11 13 12 10 3 5 2 4 9 4 12 5 2 12 13 11 12 9 0 12 7 10 9 12 10 2 12 5 0 5 0 11 7 6 1 5 10 3 0 10 4 9 2 7 4 10 4 7 1 5 3 7 0 8 3 8 11 7 4 3 8 3 9 0 7 5 0 13 12 12 13 5 10 5 4 4 10 0 12 2 5 12 7 8 7 10 13 7 6 3 8 2 2 13 11 11 10 11 6 12 11 10 6 13 11 10 4 6 8 10 6 5 2 1 9 4 5 13 7 10 10 12 6 10 7 8 3 3 12 10 12 10 3 4 2 1 8 7 7 6 3 1 10 10 13 3 8 9 7 13 3 8 12 5 5 4 1 11 6 8 4 0 9 1 3 13 11 11 8 13 5 6 13 6 9 4 3 2 9 4 6 5 8 11 11 6 3 7 11 9 7 11 0 11 3 0 3 11 0 7 2 0 10 1 11 2 2 11 4 1 5 4 0 10 0 5 8 9 13 9 7 7 7 8 10 5 10 4 4 3 6 5 4 8 3 8 12 4 11 8 2 11 11 12 3 0 6 11 11 8 10 10 4 0 9 5 4 12 0 0 0 7 2 9 3 2 10 13 5 4 13 0 0 2 3 9 0 2 2 7 3 3 12 5 7 2 2 2 8 3 0 8 4 4 0 1 6 7 8 9 5 11 1 7 6 10 10 1 8 5 9 2 9 13 6 7 8 12 2 5 13 0 6 10 8 5 7 10 8 8 12 3 7 7 2 8 4 12 9 8 9 4 5 12 7 9 9 12 13 11 13 13 0 13 12 5 5 7 7 8 3 6 7 12 10 0 3 2 11 0 1 4 7 3 11 0 3 10 13 12 7 4 9 5 11 7 1 3 8 2 4 5 12 3 7 6 1 5 8 2 2 0 10 1 4 8 8 7 2 1 6 1 4 8 13 0 9 12 5 13 11 5 2 7 2 4 10 7 1 5 10 3 2 3 2 5 6 4 3 1 10 8 10 4 3 2 12 3 10 8 8 1 4 4 13 3 4 12 5 1 4 12 11 7 8 1 7 8 0 6 11 7 13 11 0 3 12 8 8 3 7 2 8 12 0 13 10 2 13 5 7 3 5 8 7 2 3 3 1 3 1 0 4 0 6 10 2 13 4 7 12 10 5 6 0 8 3 0 2 12 4 11 9 7 12 12 8 6 1 13 9 2 0 4 12 4 4 11 11 10 12 13 8 13 0 3 7 0 1 8 6 13 11 9 1 3 10 2 10 5 6 6 4 12 7 7 10 7 4 11 9 6 12 0 0 2 5 1 9 5 11 2 13 11 11 7 6 0 11 1 2 3 10 6 4 12 6 7 11 13 2 2 5 12 9 2 9 9 10 8 8 8 9 10 8 1 11 12 9 6 13 6 9 1 2 0 0 4 2 11 5 3 3 13 5 13 1 6 8 10 2 5 4 3 5 1 2 12 11 11 4 12 7 7 9 0 1 8 12 3 1 11 7 3 1 2 5 2 8 11 11 11 2 8'.split()))"
   ]
  },
  {
   "cell_type": "code",
   "execution_count": 471,
   "id": "ccb3d576",
   "metadata": {},
   "outputs": [
    {
     "name": "stdout",
     "output_type": "stream",
     "text": [
      "7 2 11 13 4 3 7 4 5 5 2 9 7 0 2 9 12 7 6 2 1 7 9 1 1 13 7 8 3 13 11 1 3 13 13 1 3 1 7 4 10 5 10 9 2 10 8 11 6 10 8 8 0 10 2 13 8 11 9 3 5 3 3 11 10 10 4 6 7 7 9 0 10 11 11 0 13 9 8 1 2 4 9 6 7 4 5 10 7 2 9 4 1 0 8 12 5 6 2 5 11 10 10 0 1 2 12 9 11 9 10 8 10 4 12 4 3 8 3 11 13 9 4 1 12 5 9 7 1 6 4 2 9 0 7 9 10 2 0 5 0 11 0 4 4 8 11 7 3 8 0 0 13 12 13 5 10 5 4 4 10 0 12 2 8 10 13 3 8 2 11 10 6 10 6 13 6 8 10 2 9 4 10 8 3 10 4 1 3 10 13 5 4 11 6 0 9 1 3 11 8 13 5 13 6 2 9 4 11 11 9 7 0 3 0 3 11 7 0 1 11 11 4 1 5 4 0 5 9 13 8 5 10 5 4 12 8 2 11 3 6 10 9 12 0 0 0 7 9 2 13 5 13 0 0 7 12 5 2 2 8 0 8 4 1 9 1 7 10 8 9 9 13 8 13 10 5 10 12 7 2 12 8 4 5 9 9 11 13 5 5 7 8 12 10 0 2 11 0 1 4 3 11 0 10 13 12 7 4 9 5 11 7 8 2 12 3 7 5 2 10 1 7 2 0 12 10 7 5 10 4 2 12 13 3 12 4 12 11 8 7 7 13 12 3 2 10 13 7 7 1 10 2 4 7 10 0 11 9 7 8 9 4 13 8 13 7 0 1 8 13 1 3 5 10 4 11 9 5 2 11 7 11 10 4 12 11 5 12 8 8 8 8 13 6 1 3 1 8 10 4 3 9 8 3 2 2\n"
     ]
    }
   ],
   "source": [
    "# N = int(input())\n",
    "# A = list(map(int, input().split()))\n",
    "# M = int(input())\n",
    "# B = list(map(int, input().split()))\n",
    "\n",
    "dp = [[0 for col in range(M)] for row in range(N)] \n",
    "\n",
    "for i in range(N):\n",
    "    for j in range(M):\n",
    "        \n",
    "        if A[i] == B[j]:\n",
    "            if i == 0 or j == 0:\n",
    "                dp[i][j] = 1\n",
    "            else:\n",
    "                dp[i][j] = dp[i-1][j-1] + 1\n",
    "        \n",
    "        elif A[i] != B[j]:\n",
    "            if i == 0:\n",
    "                dp[i][j] = max(dp[0])\n",
    "            if j == 0:\n",
    "                tmp = [dp[k][0] for k in range(N)]\n",
    "                dp[i][j] = max(tmp)\n",
    "            if i != 0 and j != 0:\n",
    "                dp[i][j] = max(dp[i][j-1], dp[i-1][j]) \n",
    "                \n",
    "# for i in range(N):\n",
    "#     print(dp[i])\n",
    "    \n",
    "# print(dp[-1][-1])\n",
    "\n",
    "i, j = N-1, M-1\n",
    "res = []\n",
    "\n",
    "while i != -1 and j != -1:  # or dp[i][j] != 0:\n",
    "    #print(i, j)\n",
    "    if dp[i][j] == dp[i-1][j]:\n",
    "        i -= 1\n",
    "    elif dp[i][j] == dp[i][j-1]:\n",
    "        j -= 1\n",
    "    else:\n",
    "        #print('A[i] = ', A[i])\n",
    "        res.append(A[i])\n",
    "        i -= 1\n",
    "        j -= 1\n",
    "\n",
    "if i == -1:\n",
    "    i += 1\n",
    "if j == -1:\n",
    "    j += 1\n",
    "    \n",
    "if dp[i][j] != 0:\n",
    "    #print(i,j)\n",
    "    res.append(A[i])\n",
    "\n",
    "if len(res) == 0 and dp[0][0] == 1:\n",
    "    res.append(A[0])\n",
    "\n",
    "print(*res[::-1])   "
   ]
  }
 ],
 "metadata": {
  "kernelspec": {
   "display_name": "Python 3 (ipykernel)",
   "language": "python",
   "name": "python3"
  },
  "language_info": {
   "codemirror_mode": {
    "name": "ipython",
    "version": 3
   },
   "file_extension": ".py",
   "mimetype": "text/x-python",
   "name": "python",
   "nbconvert_exporter": "python",
   "pygments_lexer": "ipython3",
   "version": "3.9.7"
  }
 },
 "nbformat": 4,
 "nbformat_minor": 5
}
