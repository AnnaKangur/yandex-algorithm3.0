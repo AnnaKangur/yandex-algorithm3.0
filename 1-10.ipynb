{
 "cells": [
  {
   "cell_type": "markdown",
   "id": "7e3977ae",
   "metadata": {},
   "source": [
    "# 1. Гистограмма"
   ]
  },
  {
   "cell_type": "code",
   "execution_count": 1,
   "id": "383f1925",
   "metadata": {},
   "outputs": [
    {
     "name": "stdout",
     "output_type": "stream",
     "text": [
      "         #              \n",
      "         #              \n",
      "         #              \n",
      "         #              \n",
      "         #              \n",
      "         #         #    \n",
      "         #  #      #    \n",
      "      #  # ###  ####    \n",
      "      ## ###### ####    \n",
      "      ##############    \n",
      "      ##############  ##\n",
      "#  #  ############## ###\n",
      "########################\n",
      ",.;ADTabdeghilmnorstuvwy\n"
     ]
    }
   ],
   "source": [
    "f = open('input.txt')\n",
    "S = []\n",
    "for line in f:\n",
    "    S.append(''.join(line.split()))\n",
    "S = ''.join(S)\n",
    "\n",
    "dct = {}\n",
    "Max = 0\n",
    "for char in S:\n",
    "    if not(char in dct):\n",
    "        dct[char] = 0\n",
    "    dct[char] += 1\n",
    "    Max = max(dct[char], Max)\n",
    "\n",
    "sort_char = sorted(dct)\n",
    "for i in range(Max, 0, -1):\n",
    "    for char in sort_char:\n",
    "        if dct[char] < i:\n",
    "            print(' ', end='')\n",
    "        else:\n",
    "            print('#', end='')\n",
    "    print()\n",
    "print(*sort_char, sep='')"
   ]
  },
  {
   "cell_type": "markdown",
   "id": "4ebc7d10",
   "metadata": {},
   "source": [
    "# 2. Красивая строка"
   ]
  },
  {
   "cell_type": "code",
   "execution_count": 197,
   "id": "930d8e83",
   "metadata": {},
   "outputs": [],
   "source": [
    "# K = 2 \n",
    "# S = 'abbabbaba'\n",
    "\n",
    "# K = 2\n",
    "# S = 'helto'\n",
    "\n",
    "K = 2\n",
    "S = 'abcazaazabbbbbbbbbbbbbbb'\n",
    "\n",
    "K = 400\n",
    "S = 'gcasnpanxtiqghxayrxpvyagmtzapagsqdrsojldoqnugrphltmbjxvklngocdgjcxitufotwuvejpizwmtulmwygurtoizcluuzxuvdqiiffmrwfhkpylmwguotjmgzhvobpaksssgpaocqisuvghbvylrfdaportmfmtydjcwoqqxpbnmkaiaewnwdwvqavgvzvmyqmslhaavtsuohpayxhqgyfsorriqkaizgiryruysygrpmhkprpkyrsolqfclojcltwwjfmnyffewumwbwcfvhlhhhbzdfztiucqbtowrfkwlydzuekwrjyqncofjauzgjhbxqwbcayatdhzkmdpzitzxycopstcqbshvspkfvberfguqeezgxhyrngbkunsngcumurssigqlrphnrfxprmsgivrfvgxygakvkgzubwrssprzdfpirsjuyvxbtygbnpbxhepnxiejjwwtejvpbnibpjngjyfiriciejdaercjnjaqigsyjlybmqrtpxwrcfpmshgdhevqfwapvzjfygtnohydurikqpdekeogokjcneeejgsvkbdahjtcwfiyplbibznzjtvtrdvrlscjfcuzpbvxgewwzppswariagkadfjsrcmhpbnmuqucocsydquoutnarkkttjqywlwqpokwkoaiduvcjmgxqvszwhhwcjfnkoomhjxuviclndzuirqkfjoukkaanrhhrkbarrecfvhvddecejbccffnjncmvnsryredcqzgluligofbgibxbuaeiybbydczzovczsiiessvdgdlunwwzaoapiuwxjyjloxovzgkmpnjvjqejmpikontkiovaeiyfjhrzplzaqjjvyqrkkntzkpngexbiemqlnnhwtjmoeezybqwhomkulryhgzbzixlkrtnnjxxyghdbkcacfbsuafrwafvahqevzeurddnvzzobzzlhgkuurjawjejuurjywnbvflttfasweaxm'"
   ]
  },
  {
   "cell_type": "code",
   "execution_count": 196,
   "id": "e7a2964a",
   "metadata": {},
   "outputs": [
    {
     "data": {
      "text/plain": [
       "17"
      ]
     },
     "execution_count": 196,
     "metadata": {},
     "output_type": "execute_result"
    }
   ],
   "source": [
    "len('bbbbbbbbbbbbbbb')+2"
   ]
  },
  {
   "cell_type": "code",
   "execution_count": 193,
   "id": "36b0988f",
   "metadata": {},
   "outputs": [
    {
     "data": {
      "text/plain": [
       "24"
      ]
     },
     "execution_count": 193,
     "metadata": {},
     "output_type": "execute_result"
    }
   ],
   "source": [
    "len(S)"
   ]
  },
  {
   "cell_type": "code",
   "execution_count": 205,
   "id": "3f3fa8d2",
   "metadata": {},
   "outputs": [
    {
     "name": "stdout",
     "output_type": "stream",
     "text": [
      "9\n"
     ]
    },
    {
     "data": {
      "text/plain": [
       "0.0009989738464355469"
      ]
     },
     "execution_count": 205,
     "metadata": {},
     "output_type": "execute_result"
    }
   ],
   "source": [
    "import time\n",
    "start = time.time()\n",
    "# K = int(input())\n",
    "# S = input()\n",
    "K = 400\n",
    "S = 'gcasnpanxtiqghxayrxpvyagmtzapagsqdrsojldoqnugrphltmbjxvklngocdgjcxitufotwuvejpizwmtulmwygurtoizcluuzxuvdqiiffmrwfhkpylmwguotjmgzhvobpaksssgpaocqisuvghbvylrfdaportmfmtydjcwoqqxpbnmkaiaewnwdwvqavgvzvmyqmslhaavtsuohpayxhqgyfsorriqkaizgiryruysygrpmhkprpkyrsolqfclojcltwwjfmnyffewumwbwcfvhlhhhbzdfztiucqbtowrfkwlydzuekwrjyqncofjauzgjhbxqwbcayatdhzkmdpzitzxycopstcqbshvspkfvberfguqeezgxhyrngbkunsngcumurssigqlrphnrfxprmsgivrfvgxygakvkgzubwrssprzdfpirsjuyvxbtygbnpbxhepnxiejjwwtejvpbnibpjngjyfiriciejdaercjnjaqigsyjlybmqrtpxwrcfpmshgdhevqfwapvzjfygtnohydurikqpdekeogokjcneeejgsvkbdahjtcwfiyplbibznzjtvtrdvrlscjfcuzpbvxgewwzppswariagkadfjsrcmhpbnmuqucocsydquoutnarkkttjqywlwqpokwkoaiduvcjmgxqvszwhhwcjfnkoomhjxuviclndzuirqkfjoukkaanrhhrkbarrecfvhvddecejbccffnjncmvnsryredcqzgluligofbgibxbuaeiybbydczzovczsiiessvdgdlunwwzaoapiuwxjyjloxovzgkmpnjvjqejmpikontkiovaeiyfjhrzplzaqjjvyqrkkntzkpngexbiemqlnnhwtjmoeezybqwhomkulryhgzbzixlkrtnnjxxyghdbkcacfbsuafrwafvahqevzeurddnvzzobzzlhgkuurjawjejuurjywnbvflttfasweaxm'\n",
    "# S = 'abbabbaba'\n",
    "# S = list(S)\n",
    "maxlen = 0\n",
    "lenS = len(S)\n",
    "\n",
    "for char in set(S):\n",
    "    l, r = 0, 0\n",
    "    count = 0\n",
    "\n",
    "    while r < lenS-1 and count < K:\n",
    "        if S[r] != char:\n",
    "            count += 1\n",
    "        r += 1\n",
    "    r -= 1\n",
    "\n",
    "    while r < lenS-2 and S[r+1] == char:\n",
    "        r += 1\n",
    "    if r+1 == lenS-1 and S[r+1] == char:\n",
    "        r += 1\n",
    "    maxlen = max(maxlen, r - l + 1)\n",
    "\n",
    "    for l in range(1, lenS-maxlen):\n",
    "        if S[l-1] != char:\n",
    "            count -= 1\n",
    "        r += 1\n",
    "        while r < lenS-1 and count < K:\n",
    "            if S[r] != char:\n",
    "                count += 1\n",
    "            r += 1\n",
    "        r -= 1\n",
    "\n",
    "        while r < lenS-2 and S[r+1] == char:\n",
    "            r += 1\n",
    "        if r+1 == lenS-1 and S[r+1] == char:\n",
    "            r += 1\n",
    "        maxlen = max(maxlen, r - l + 1)\n",
    "    \n",
    "print(maxlen)\n",
    "time.time()-start"
   ]
  },
  {
   "cell_type": "markdown",
   "id": "92286c37",
   "metadata": {},
   "source": [
    "# 3. Коллекционер Диего"
   ]
  },
  {
   "cell_type": "markdown",
   "id": "ff31e8ee",
   "metadata": {},
   "source": [
    " Как-то раз к нему пришли K коллекционеров. i-й из них собрал все наклейки с номерами не меньшими, чем pi."
   ]
  },
  {
   "cell_type": "markdown",
   "id": "0c72cc19",
   "metadata": {},
   "source": [
    "Найти все наклейки Diego с номерами меньше р"
   ]
  },
  {
   "cell_type": "code",
   "execution_count": null,
   "id": "3ce8f5fb",
   "metadata": {},
   "outputs": [],
   "source": [
    "def BinFind(arr, x):\n",
    "    l = 0\n",
    "    r = len(arr)-1\n",
    "    while l < r:\n",
    "        ind = (l + r + 1) // 2 \n",
    "        if arr[ind] < x:\n",
    "            l = ind \n",
    "        else:\n",
    "            r = ind - 1\n",
    "    return l\n",
    "\n",
    "# N = int(input()) \n",
    "# Diego = list(set(map(int, input().split())))\n",
    "# K = int(input())\n",
    "# p = list(map(int, input().split())) \n",
    "\n",
    "# Diego = list(map(int, '0 1 2 3 4 5'.split()))\n",
    "# p = list(map(int, '3'.split()))\n",
    "# N = len(Diego)\n",
    "# K = len(p)\n",
    "\n",
    "res = [0]*K\n",
    "for i in range(K):\n",
    "    ind = BinFind(Diego, p[i])\n",
    "    if ind == 0:\n",
    "        if Diego[0] < p[i]:\n",
    "            res[i] = 1\n",
    "        else:\n",
    "            res[i] = 0\n",
    "            \n",
    "    else:\n",
    "        res[i] = ind + 1\n",
    "        \n",
    "print(*res, sep = '\\n')"
   ]
  },
  {
   "cell_type": "markdown",
   "id": "66d71a66",
   "metadata": {},
   "source": [
    "# 4. Контрольная работа"
   ]
  },
  {
   "cell_type": "code",
   "execution_count": 4,
   "id": "24fd8f14",
   "metadata": {},
   "outputs": [
    {
     "name": "stdout",
     "output_type": "stream",
     "text": [
      "8 2\n"
     ]
    }
   ],
   "source": [
    "def get_place(R, M):\n",
    "    return R*2 - M%2\n",
    "\n",
    "def get_R_and_M(place):\n",
    "    R = place // 2 + place % 2\n",
    "    M = 2 - place % 2 \n",
    "    return R, M\n",
    "\n",
    "# N = int(input())\n",
    "# K = int(input())\n",
    "# R_P = int(input())\n",
    "# M_P = int(input())\n",
    "\n",
    "# N, K, RP, MP = 25, 2, 1, 2\n",
    "N, K, RP, MP = 16, 8, 4, 2\n",
    "placeP = get_place(RP, MP)\n",
    "\n",
    "RVp, MVp = -1, -1\n",
    "if placeP + K <= N:\n",
    "    RVp, MVp = get_R_and_M(placeP + K)\n",
    "\n",
    "RVm, MVm = -1, -1\n",
    "if placeP - K > 0:\n",
    "    RVm, MVm = get_R_and_M(placeP - K)    \n",
    "    \n",
    "if RVp == -1 and RVm == -1:\n",
    "    print(-1)\n",
    "elif RVp == -1:\n",
    "    print(RVm, MVm)\n",
    "elif RVm == -1:\n",
    "    print(RVp, MVp)\n",
    "elif RVp-RP <= RP-RVm:\n",
    "    print(RVp, MVp)\n",
    "elif RVp-RP > RP-RVm:\n",
    "    print(RVm, MVm)"
   ]
  },
  {
   "cell_type": "markdown",
   "id": "677179d4",
   "metadata": {},
   "source": [
    "# 5. Хорошая строка"
   ]
  },
  {
   "cell_type": "code",
   "execution_count": 65,
   "id": "252f0974",
   "metadata": {},
   "outputs": [],
   "source": [
    "N = 2\n",
    "c = [3,4]\n",
    "# aaabbbb\n",
    "# abababb\n",
    "# 3"
   ]
  },
  {
   "cell_type": "code",
   "execution_count": 69,
   "id": "64dcfdc0",
   "metadata": {},
   "outputs": [],
   "source": [
    "N = 3\n",
    "c = [1,1,1]\n",
    "# abc\n",
    "# 2"
   ]
  },
  {
   "cell_type": "code",
   "execution_count": 73,
   "id": "e9f99de6",
   "metadata": {},
   "outputs": [
    {
     "data": {
      "text/plain": [
       "14"
      ]
     },
     "execution_count": 73,
     "metadata": {},
     "output_type": "execute_result"
    }
   ],
   "source": [
    "N = 5\n",
    "c = [5,4,4,3,4]\n",
    "4 + 4 + 3 + 3"
   ]
  },
  {
   "cell_type": "code",
   "execution_count": null,
   "id": "d3a2158f",
   "metadata": {},
   "outputs": [],
   "source": [
    "N = 1\n",
    "c = [1]"
   ]
  },
  {
   "cell_type": "code",
   "execution_count": 85,
   "id": "36f5e449",
   "metadata": {},
   "outputs": [],
   "source": [
    "N = 6\n",
    "c = [100,1,100,1,100,1]"
   ]
  },
  {
   "cell_type": "code",
   "execution_count": 88,
   "id": "09465b3d",
   "metadata": {},
   "outputs": [
    {
     "name": "stdout",
     "output_type": "stream",
     "text": [
      "100 1\n",
      "1 100\n",
      "100 1\n",
      "1 100\n",
      "5\n"
     ]
    }
   ],
   "source": [
    "# N = int(input())\n",
    "# c = []\n",
    "# for i in range(N):\n",
    "#     c.append(int(input()))\n",
    "s = 0\n",
    "if N > 1:\n",
    "    for i in range(N-2):\n",
    "        print(c[i], c[i+1])\n",
    "        if c[i] <= c[i+1]:\n",
    "            s += c[i]\n",
    "        else:\n",
    "            s += c[i+1]\n",
    "    if c[N-2] <= c[N-1]:\n",
    "        s += c[N-2]\n",
    "    else:\n",
    "        s += c[N-1]\n",
    "print(s)"
   ]
  },
  {
   "cell_type": "markdown",
   "id": "5d78a0ec",
   "metadata": {},
   "source": [
    "# 6. Операционные системы lite"
   ]
  },
  {
   "cell_type": "code",
   "execution_count": 110,
   "id": "d1c85220",
   "metadata": {},
   "outputs": [],
   "source": [
    "M = 10\n",
    "N = 3\n",
    "A = [1,4,3]\n",
    "B = [3,7,4]\n",
    "# 1"
   ]
  },
  {
   "cell_type": "code",
   "execution_count": 108,
   "id": "883a5afd",
   "metadata": {},
   "outputs": [],
   "source": [
    "M = 10\n",
    "N = 4\n",
    "A = [1,4,7,4]\n",
    "B = [3,5,8,6]\n",
    "# 3"
   ]
  },
  {
   "cell_type": "code",
   "execution_count": 2,
   "id": "a094967e",
   "metadata": {},
   "outputs": [
    {
     "name": "stdout",
     "output_type": "stream",
     "text": [
      "10\n",
      "3\n",
      "1 3\n",
      "4 7\n",
      "3 4\n",
      "1\n"
     ]
    }
   ],
   "source": [
    "M = int(input())\n",
    "N = int(input())\n",
    "A = []\n",
    "B = []\n",
    "for i in range(N):\n",
    "    a, b = (map(int, input().split()))\n",
    "    A.append(a)\n",
    "    B.append(b)\n",
    "\n",
    "Disk = []\n",
    "for i in range(N):\n",
    "    a = A[i]\n",
    "    b = B[i]\n",
    "    if len(Disk) != 0:\n",
    "        ind = []\n",
    "        for j in range(len(Disk)):\n",
    "            if not(Disk[j][0] < a and Disk[j][1] < a or Disk[j][0] > b and Disk[j][1] > b):\n",
    "                ind.append(j)\n",
    "        for k in range(len(ind)-1, -1, -1):\n",
    "            Disk.pop(ind[k])  \n",
    "            \n",
    "    Disk.append([a,b])\n",
    "print(len(Disk))"
   ]
  },
  {
   "cell_type": "markdown",
   "id": "7ba50315",
   "metadata": {},
   "source": [
    "# 7. SNTP"
   ]
  },
  {
   "cell_type": "code",
   "execution_count": 64,
   "id": "38533fc2",
   "metadata": {
    "scrolled": true
   },
   "outputs": [
    {
     "data": {
      "text/plain": [
       "86400"
      ]
     },
     "execution_count": 64,
     "metadata": {},
     "output_type": "execute_result"
    }
   ],
   "source": [
    "24* 60**2 "
   ]
  },
  {
   "cell_type": "code",
   "execution_count": 7,
   "id": "8c3cca70",
   "metadata": {},
   "outputs": [
    {
     "name": "stdout",
     "output_type": "stream",
     "text": [
      "-1 day, 23:55:15\n"
     ]
    }
   ],
   "source": [
    "import datetime\n",
    "time_1 = datetime.timedelta(hours= 10 , minutes=20, seconds=30)\n",
    "time_2 = datetime.timedelta(hours= 10, minutes=15, seconds=45)\n",
    "print(time_2 - time_1)"
   ]
  },
  {
   "cell_type": "code",
   "execution_count": 12,
   "id": "9a5cd90c",
   "metadata": {},
   "outputs": [
    {
     "name": "stdout",
     "output_type": "stream",
     "text": [
      "11:11:00\n"
     ]
    }
   ],
   "source": [
    "# A = '15:01:00'\n",
    "# B = '05:59:45'\n",
    "# C = '16:01:40'\n",
    "\n",
    "A = '20:26:00'\n",
    "B = '09:24:00'\n",
    "C = '23:59:59'\n",
    "\n",
    "def int_r(x):\n",
    "    if x>0:\n",
    "        x += 0.5\n",
    "    else:\n",
    "        x -= 0.5\n",
    "    return int(x)\n",
    "\n",
    "A = input()\n",
    "B = input()\n",
    "C = input()\n",
    "\n",
    "hour, minute, second = (map(int, A.split(':')))\n",
    "A_sec = hour*60**2 + minute*60 + second\n",
    "\n",
    "hour, minute, second = (map(int, B.split(':')))\n",
    "B_sec = hour*60**2 + minute*60 + second\n",
    "\n",
    "hour, minute, second = (map(int, C.split(':')))\n",
    "C_sec = hour*60**2 + minute*60 + second\n",
    "\n",
    "A_sec, B_sec, C_sec\n",
    "\n",
    "if C_sec > A_sec:\n",
    "    diff = C_sec - A_sec\n",
    "else:\n",
    "    diff = 24*60**2 - (A_sec - C_sec)\n",
    "# print(diff/2)\n",
    "diff = int_r(diff/2)\n",
    "# print(diff)\n",
    "\n",
    "res_sec = B_sec + diff\n",
    "\n",
    "hour = res_sec // (60**2)\n",
    "res_sec = res_sec - hour*60**2\n",
    "hour = int(hour % 24)\n",
    "\n",
    "minute = int(res_sec // 60)\n",
    "res_sec = res_sec - minute*60\n",
    "\n",
    "second = res_sec\n",
    "\n",
    "h = '0' + str(hour) if hour < 10 else str(hour)\n",
    "m = '0' + str(minute) if minute < 10 else str(minute)\n",
    "s = '0' + str(second) if second < 10 else str(second)\n",
    "print('{}:{}:{}'.format(h, m, s))"
   ]
  },
  {
   "cell_type": "markdown",
   "id": "59014c10",
   "metadata": {},
   "source": [
    "# 8. Минимальный прямоугольник"
   ]
  },
  {
   "cell_type": "code",
   "execution_count": 16,
   "id": "d2b12ecc",
   "metadata": {},
   "outputs": [
    {
     "name": "stdout",
     "output_type": "stream",
     "text": [
      "3\n",
      "1 1\n",
      "1 10\n",
      "5 5\n"
     ]
    }
   ],
   "source": [
    "K = int(input())\n",
    "X, Y = [], []\n",
    "for i in range(K):\n",
    "    x,y = map(int, input().split())\n",
    "    X.append(x)\n",
    "    Y.append(y)"
   ]
  },
  {
   "cell_type": "code",
   "execution_count": 14,
   "id": "112afdf5",
   "metadata": {},
   "outputs": [],
   "source": [
    "K = 3\n",
    "X = [1,1,5]\n",
    "Y = [1,10,5]\n",
    "# 1 1 5 10"
   ]
  },
  {
   "cell_type": "code",
   "execution_count": 15,
   "id": "a648a9f7",
   "metadata": {},
   "outputs": [
    {
     "name": "stdout",
     "output_type": "stream",
     "text": [
      "1 1 5 10\n"
     ]
    }
   ],
   "source": [
    "K = int(input())\n",
    "X, Y = [], []\n",
    "for i in range(K):\n",
    "    x,y = map(int, input().split())\n",
    "    X.append(x)\n",
    "    Y.append(y)\n",
    "# Выведите в выходной файл координаты левого нижнего и правого верхнего углов прямоугольника.\n",
    "xl = min(X)\n",
    "yl = min(Y)\n",
    "xr = max(X)\n",
    "yr = max(Y)\n",
    "print(xl,yl,xr,yr)"
   ]
  },
  {
   "cell_type": "markdown",
   "id": "709960fb",
   "metadata": {},
   "source": [
    "# 9. Сумма в прямоугольнике"
   ]
  },
  {
   "cell_type": "code",
   "execution_count": 18,
   "id": "d87482b5",
   "metadata": {},
   "outputs": [
    {
     "name": "stdout",
     "output_type": "stream",
     "text": [
      "1 2 3\n"
     ]
    }
   ],
   "source": [
    "N, M, K = map(int, input().split())\n",
    "arr = []\n",
    "for i in range(N):\n",
    "    # a = list(map(int, input().split()))\n",
    "    arr.append(list(map(int, input().split())))\n",
    "X1 = []\n",
    "Y1 = []\n",
    "X2 = []\n",
    "Y2 = []\n",
    "for i in range(K):\n",
    "    x1, y1, x2, y2 = map(int, input().split())\n",
    "    X1.append(x1)\n",
    "    Y1.append(y1)\n",
    "    X2.append(x2)\n",
    "    Y2.append(y2)"
   ]
  },
  {
   "cell_type": "code",
   "execution_count": 38,
   "id": "a27d5dbc",
   "metadata": {},
   "outputs": [],
   "source": [
    "N, M, K = map(int, '3 3 2'.split())\n",
    "arr = [[1, 2, 3], [4, 5, 6], [7, 8, 9]]\n",
    "X1 = [2,1]\n",
    "Y1 = [2,1]\n",
    "X2 = [3,2]\n",
    "Y2 = [3,3]\n",
    "# 28\n",
    "# 21"
   ]
  },
  {
   "cell_type": "code",
   "execution_count": 27,
   "id": "eab55046",
   "metadata": {},
   "outputs": [
    {
     "data": {
      "text/plain": [
       "28"
      ]
     },
     "execution_count": 27,
     "metadata": {},
     "output_type": "execute_result"
    }
   ],
   "source": [
    "5+6+8+9"
   ]
  },
  {
   "cell_type": "code",
   "execution_count": 48,
   "id": "e5d7b549",
   "metadata": {},
   "outputs": [
    {
     "name": "stdout",
     "output_type": "stream",
     "text": [
      "28\n",
      "21\n"
     ]
    }
   ],
   "source": [
    "N, M, K = map(int, input().split())\n",
    "arr = []\n",
    "for i in range(N):\n",
    "    # a = list(map(int, input().split()))\n",
    "    arr.append(list(map(int, input().split())))\n",
    "X1 = []\n",
    "Y1 = []\n",
    "X2 = []\n",
    "Y2 = []\n",
    "for i in range(K):\n",
    "    x1, y1, x2, y2 = map(int, input().split())\n",
    "    X1.append(x1)\n",
    "    Y1.append(y1)\n",
    "    X2.append(x2)\n",
    "    Y2.append(y2)\n",
    "\n",
    "\n",
    "N, M, K = map(int, '3 3 2'.split())\n",
    "arr = [[1, 2, 3], [4, 5, 6], [7, 8, 9]]\n",
    "X1 = [2,1]\n",
    "Y1 = [2,1]\n",
    "X2 = [3,2]\n",
    "Y2 = [3,3]\n",
    "# 28\n",
    "# 21    \n",
    "   \n",
    "S = [0]*K    \n",
    "for i in range(K):\n",
    "    x1, y1, x2, y2 = X1[i], Y1[i], X2[i], Y2[i]\n",
    "    x1 -= 1\n",
    "    y1 -= 1\n",
    "    x2 -= 1\n",
    "    y2 -= 1\n",
    "    for row in range(x1, x2+1):\n",
    "        for col in range(y1, y2+1):\n",
    "            # print(row, col, arr[row][col])\n",
    "            S[i] += arr[row][col]\n",
    "print(*S, sep='\\n')"
   ]
  },
  {
   "cell_type": "markdown",
   "id": "fc46f6b8",
   "metadata": {},
   "source": [
    "https://www.techiedelight.com/ru/calculate-sum-elements-sub-matrix-constant-time/"
   ]
  },
  {
   "cell_type": "code",
   "execution_count": 75,
   "id": "8f47054e",
   "metadata": {},
   "outputs": [
    {
     "data": {
      "text/plain": [
       "21"
      ]
     },
     "execution_count": 75,
     "metadata": {},
     "output_type": "execute_result"
    }
   ],
   "source": [
    "1+2+4+5 +3+6"
   ]
  },
  {
   "cell_type": "code",
   "execution_count": 79,
   "id": "25e82b34",
   "metadata": {},
   "outputs": [
    {
     "name": "stdout",
     "output_type": "stream",
     "text": [
      "[[0, 0, 0], [0, 0, 0], [0, 0, 0]]\n",
      "[[1, 3, 6], [4, 9, 15], [7, 15, 24]]\n"
     ]
    }
   ],
   "source": [
    "N, M, K = map(int, '3 3 2'.split())\n",
    "arr = [[1, 2, 3], \n",
    "       [4, 5, 6], \n",
    "       [7, 8, 9]]\n",
    "X1 = [2,1]\n",
    "Y1 = [2,1]\n",
    "X2 = [3,2]\n",
    "Y2 = [3,3]\n",
    "# 28\n",
    "# 21 \n",
    "\n",
    "S = [[0 for col in range(N)] for row in range(M)] \n",
    "print(S)\n",
    "for i in range(N):\n",
    "    for j in range(M):\n",
    "        if j == 0:\n",
    "            S[i][j] = arr[i][j]\n",
    "        else:\n",
    "            S[i][j] = S[i][j-1] + arr[i][j]\n",
    "    # print(i, j, S)        \n",
    "print(S)"
   ]
  },
  {
   "cell_type": "code",
   "execution_count": null,
   "id": "0a1eb93c",
   "metadata": {},
   "outputs": [],
   "source": [
    "for i in range(K):\n",
    "    x1, y1, x2, y2 = X1[i]-1, Y1[i]-1, X2[i]-1, Y2[i]-1\n",
    "    "
   ]
  },
  {
   "cell_type": "code",
   "execution_count": 70,
   "id": "5a177bcd",
   "metadata": {},
   "outputs": [
    {
     "data": {
      "text/plain": [
       "1"
      ]
     },
     "execution_count": 70,
     "metadata": {},
     "output_type": "execute_result"
    }
   ],
   "source": [
    "8-5-3+1"
   ]
  },
  {
   "cell_type": "code",
   "execution_count": null,
   "id": "eb1f18e6",
   "metadata": {},
   "outputs": [],
   "source": []
  },
  {
   "cell_type": "markdown",
   "id": "896d4d66",
   "metadata": {},
   "source": [
    "# 10. Скучная лекция"
   ]
  },
  {
   "cell_type": "code",
   "execution_count": 91,
   "id": "1ad2577d",
   "metadata": {},
   "outputs": [
    {
     "name": "stdout",
     "output_type": "stream",
     "text": [
      "abacaba\n",
      "a: 44\n",
      "b: 24\n",
      "c: 16\n"
     ]
    }
   ],
   "source": [
    "s = list('hello')\n",
    "# e: 8\n",
    "# h: 5\n",
    "# l: 17\n",
    "# o: 5\n",
    "\n",
    "s = input()\n",
    "    \n",
    "n = len(s)\n",
    "dct = {}\n",
    "for i in range(n):\n",
    "    if not(s[i] in dct):\n",
    "        dct[s[i]] = 0\n",
    "    k = (i+1) * (n-i)\n",
    "    dct[s[i]] += k\n",
    "\n",
    "for char in sorted(dct):\n",
    "    print('{}: {}'.format(char, dct[char]))"
   ]
  },
  {
   "cell_type": "code",
   "execution_count": null,
   "id": "858174ba",
   "metadata": {},
   "outputs": [],
   "source": []
  }
 ],
 "metadata": {
  "kernelspec": {
   "display_name": "Python 3 (ipykernel)",
   "language": "python",
   "name": "python3"
  },
  "language_info": {
   "codemirror_mode": {
    "name": "ipython",
    "version": 3
   },
   "file_extension": ".py",
   "mimetype": "text/x-python",
   "name": "python",
   "nbconvert_exporter": "python",
   "pygments_lexer": "ipython3",
   "version": "3.9.7"
  }
 },
 "nbformat": 4,
 "nbformat_minor": 5
}
