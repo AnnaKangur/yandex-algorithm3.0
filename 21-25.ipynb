{
 "cells": [
  {
   "cell_type": "markdown",
   "id": "ea8766f3",
   "metadata": {},
   "source": [
    "https://contest.yandex.ru/contest/45468/problems/21/"
   ]
  },
  {
   "cell_type": "markdown",
   "id": "899adcb1",
   "metadata": {},
   "source": [
    "# 21. Три единицы подряд"
   ]
  },
  {
   "cell_type": "markdown",
   "id": "449a49a0",
   "metadata": {},
   "source": [
    "По данному числу N определите количество последовательностей из нулей и единиц длины N, в которых никакие три единицы не стоят рядом."
   ]
  },
  {
   "cell_type": "code",
   "execution_count": 107,
   "id": "f46d1362",
   "metadata": {},
   "outputs": [
    {
     "name": "stdout",
     "output_type": "stream",
     "text": [
      "7\n",
      "81\n"
     ]
    }
   ],
   "source": [
    "n = int(input())\n",
    "f = [0] * 40\n",
    "f[1] = 2\n",
    "f[2] = 4\n",
    "f[3] = 7\n",
    "i = 4\n",
    "while i <= n:\n",
    "    f[i] = (f[i-1] + f[i-2] + f[i-3])\n",
    "    i+=1\n",
    "print(f[n])"
   ]
  },
  {
   "cell_type": "markdown",
   "id": "1b9e17cc",
   "metadata": {},
   "source": [
    "# 22. Кузнечик"
   ]
  },
  {
   "cell_type": "code",
   "execution_count": 47,
   "id": "b2b7d5e8",
   "metadata": {},
   "outputs": [
    {
     "name": "stdout",
     "output_type": "stream",
     "text": [
      "1 1\n",
      "1\n"
     ]
    }
   ],
   "source": [
    "N, k = (map(int, input().split()))\n",
    "# N, k = 8, 2\n",
    "# N, k = 8, 3\n",
    "dp = [0]*N\n",
    "dp[0] = 1\n",
    "# print(dp)\n",
    "for i in range(1, N):\n",
    "    if i<k:\n",
    "        s = sum(dp[0:i+1])\n",
    "    else:\n",
    "        s = sum(dp[i-k:i])\n",
    "    dp[i] = s\n",
    "# print(dp)\n",
    "\n",
    "print(dp[-1])\n"
   ]
  },
  {
   "cell_type": "markdown",
   "id": "21a30483",
   "metadata": {},
   "source": [
    "# 23. Калькулятор"
   ]
  },
  {
   "cell_type": "markdown",
   "id": "8f85bc83",
   "metadata": {},
   "source": [
    "Имеется калькулятор, который выполняет следующие операции:\n",
    "* умножить число X на 2;\n",
    "* умножить число X на 3;\n",
    "* прибавить к числу X единицу.\n",
    "\n",
    "Определите, какое наименьшее количество операций требуется, чтобы получить из числа 1 число N."
   ]
  },
  {
   "cell_type": "markdown",
   "id": "67449b19",
   "metadata": {},
   "source": [
    "В первой строке выходного файла выведите минимальное количество операций. Во второй строке выведите числа, последовательно получающиеся при выполнении операций. Первое из них должно быть равно 1, а последнее N. Если решений несколько, выведите любое."
   ]
  },
  {
   "cell_type": "code",
   "execution_count": 159,
   "id": "7b0ed8c8",
   "metadata": {},
   "outputs": [
    {
     "name": "stdout",
     "output_type": "stream",
     "text": [
      "11\n",
      "5\n",
      "1 2 4 5 10 11\n"
     ]
    }
   ],
   "source": [
    "N = int(input())\n",
    "# N = 962340\n",
    "step = [N]\n",
    "while N!=1:\n",
    "    if N % 3 == 0:\n",
    "        N = N // 3\n",
    "    elif N % 2 == 0:\n",
    "        N = N // 2\n",
    "    else:\n",
    "        N = N - 1\n",
    "    # print(N)\n",
    "    step.append(N)\n",
    "print(len(step)-1)\n",
    "print(*step[::-1])"
   ]
  },
  {
   "cell_type": "code",
   "execution_count": 7,
   "id": "e32e2449",
   "metadata": {},
   "outputs": [
    {
     "name": "stdout",
     "output_type": "stream",
     "text": [
      "5\n",
      "3\n",
      "1 3 4 5\n"
     ]
    }
   ],
   "source": [
    "N = int(input())\n",
    "dp   = [0]*(N+1)\n",
    "prev = [0]*(N+1)\n",
    "# dp[0] = 0; prev[0] = -1\n",
    "dp[1] = 0; prev[1] =  -1\n",
    "if N > 1:\n",
    "    dp[2] = 1; prev[2] = 1\n",
    "if N > 2:\n",
    "    dp[3] = 1; prev[3] = 1\n",
    "for i in range(4, N+1):\n",
    "    min_ind = i-1\n",
    "    min_dp = dp[min_ind]\n",
    "    if i%3 == 0:\n",
    "        if dp[i//3] < dp[min_ind]:\n",
    "            min_ind = i//3\n",
    "            min_dp = dp[min_ind]\n",
    "    if i%2 == 0:   \n",
    "        if dp[i//2] < dp[min_ind]:\n",
    "            min_ind = i//2\n",
    "            min_dp = dp[min_ind]\n",
    "    prev[i] = min_ind\n",
    "    dp[i] = min_dp + 1\n",
    "print(dp[-1])\n",
    "ind = len(dp)-1\n",
    "ans = []\n",
    "while ind!=1:\n",
    "    ans.append(ind)   \n",
    "    ind = prev[ind]\n",
    "ans.append(ind)\n",
    "print(*ans[::-1])"
   ]
  },
  {
   "cell_type": "markdown",
   "id": "2c6957e0",
   "metadata": {},
   "source": [
    "# 24. Покупка билетов"
   ]
  },
  {
   "cell_type": "markdown",
   "id": "07c618b2",
   "metadata": {},
   "source": [
    "На вход программы поступает сначала число N — количество покупателей в очереди (1 ≤ N ≤ 5000). Далее идет N троек натуральных чисел Ai, Bi, Ci. Каждое из этих чисел не превышает 3600. Люди в очереди нумеруются, начиная от кассы."
   ]
  },
  {
   "cell_type": "code",
   "execution_count": 27,
   "id": "e4916bbf",
   "metadata": {},
   "outputs": [],
   "source": [
    "import math\n",
    "N = 5\n",
    "A = [math.inf, 5,2,5,20,20,  math.inf, math.inf]\n",
    "B = [math.inf, 10,10,5,20,1, math.inf, math.inf]\n",
    "C = [math.inf, 15,15,5,1,1,  math.inf, math.inf]"
   ]
  },
  {
   "cell_type": "code",
   "execution_count": 28,
   "id": "5ff072f3",
   "metadata": {},
   "outputs": [
    {
     "name": "stdout",
     "output_type": "stream",
     "text": [
      "12\n"
     ]
    }
   ],
   "source": [
    "import math\n",
    "# N = int(input())\n",
    "# A, B, C = [math.inf], [math.inf], [math.inf]\n",
    "# for i in range(N):\n",
    "#     a,b,c = (map(int, input().split()))\n",
    "#     A.append(a)\n",
    "#     B.append(b)\n",
    "#     C.append(c)\n",
    "# for i in range(2):\n",
    "#     A.append(math.inf)\n",
    "#     B.append(math.inf)\n",
    "#     C.append(math.inf)\n",
    "dp = [0]*len(A)\n",
    "for i in range(1,N+1):\n",
    "    dp[i] = min(dp[i-1] + A[i], \n",
    "                dp[i-2] + B[i-1],\n",
    "                dp[i-3] + C[i-2])\n",
    "print(dp[N])"
   ]
  },
  {
   "cell_type": "markdown",
   "id": "6541d9c0",
   "metadata": {},
   "source": [
    "# 25. Гвоздики"
   ]
  },
  {
   "cell_type": "markdown",
   "id": "b219c9bf",
   "metadata": {},
   "source": [
    "https://site.ada.edu.az/~medv/acm/Docs%20e-olimp/Volume%2010/987.htm"
   ]
  },
  {
   "cell_type": "code",
   "execution_count": 43,
   "id": "0215c96c",
   "metadata": {},
   "outputs": [
    {
     "data": {
      "text/plain": [
       "[-1, 3, 4, 6, 12, 13, 14]"
      ]
     },
     "execution_count": 43,
     "metadata": {},
     "output_type": "execute_result"
    }
   ],
   "source": [
    "N = 6\n",
    "a = list(map(int, '3 13 12 4 14 6'.split()))\n",
    "# 5\n",
    "a.append(-1)\n",
    "a.sort()\n",
    "a"
   ]
  },
  {
   "cell_type": "code",
   "execution_count": 63,
   "id": "d207d2b5",
   "metadata": {},
   "outputs": [],
   "source": [
    "N = 2\n",
    "a = [0, 10000]"
   ]
  },
  {
   "cell_type": "code",
   "execution_count": 64,
   "id": "39174c52",
   "metadata": {},
   "outputs": [
    {
     "name": "stdout",
     "output_type": "stream",
     "text": [
      "10000\n"
     ]
    }
   ],
   "source": [
    "# N = int(input())\n",
    "# a = list(map(int, input().split()))\n",
    "a.append(-1)\n",
    "a.sort()\n",
    "dp = [0]*(N+1)\n",
    "dp[1] = 0\n",
    "dp[2] = a[2] - a[1]\n",
    "if N > 2:\n",
    "    dp[3] = a[2] - a[1] + a[3] - a[2]\n",
    "# print(dp)\n",
    "for i in range(4,N+1):\n",
    "    dp[i] = min(dp[i-2], dp[i-1]) + a[i] - a[i-1]\n",
    "print(dp[-1])"
   ]
  }
 ],
 "metadata": {
  "kernelspec": {
   "display_name": "Python 3 (ipykernel)",
   "language": "python",
   "name": "python3"
  },
  "language_info": {
   "codemirror_mode": {
    "name": "ipython",
    "version": 3
   },
   "file_extension": ".py",
   "mimetype": "text/x-python",
   "name": "python",
   "nbconvert_exporter": "python",
   "pygments_lexer": "ipython3",
   "version": "3.9.7"
  }
 },
 "nbformat": 4,
 "nbformat_minor": 5
}
