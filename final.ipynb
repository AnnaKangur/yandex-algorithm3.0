{
 "cells": [
  {
   "cell_type": "markdown",
   "id": "0da28d85",
   "metadata": {},
   "source": [
    "# A. Подземная доставка"
   ]
  },
  {
   "cell_type": "code",
   "execution_count": 9,
   "id": "64725284",
   "metadata": {},
   "outputs": [
    {
     "name": "stdout",
     "output_type": "stream",
     "text": [
      "6\n",
      "add 5 oil\n",
      "get coal\n",
      "0\n",
      "add 7 liverstock\n",
      "delete 10\n",
      "7 d= 10\n",
      "5 d= 3\n",
      "get oil\n",
      "2\n",
      "get liverstock\n",
      "0\n"
     ]
    }
   ],
   "source": [
    "N = int(input())\n",
    "vagon_name = []\n",
    "vagon_k = []\n",
    "for i in range(N):\n",
    "    command = input().split()\n",
    "    if command[0] == 'add':\n",
    "        k = int(command[1]) # количество вагонов\n",
    "        name = command[2] # название товара\n",
    "        if len(vagon_name) != 0 and vagon_name[-1] == name:\n",
    "            vagon_k[-1] += k\n",
    "        else:\n",
    "            vagon_name.append(name)\n",
    "            vagon_k.append(k)\n",
    "    elif command[0] == 'delete':\n",
    "        d = int(command[1])\n",
    "        while d > 0:\n",
    "            # print(vagon_k[-1], 'd=', d)\n",
    "            if vagon_k[-1]-d <= 0:\n",
    "                d = d - vagon_k[-1]\n",
    "                vagon_name.pop()\n",
    "                vagon_k.pop()\n",
    "            else:\n",
    "                vagon_k[-1] = vagon_k[-1] - d\n",
    "                d = 0\n",
    "    elif command[0] == 'get':\n",
    "        name = command[1]\n",
    "        ind = []\n",
    "        s = 0\n",
    "        for j in range(len(vagon_name)):\n",
    "            if vagon_name[j] == name:\n",
    "                s += vagon_k[j]\n",
    "        print(s)\n",
    "    #print(vagon_name)\n",
    "    #print(vagon_k)    "
   ]
  },
  {
   "cell_type": "code",
   "execution_count": null,
   "id": "c012b462",
   "metadata": {},
   "outputs": [],
   "source": [
    "6\n",
    "add 5 oil\n",
    "get coal\n",
    "add 7 liverstock\n",
    "delete 10\n",
    "get oil\n",
    "get liverstock\n"
   ]
  },
  {
   "cell_type": "code",
   "execution_count": null,
   "id": "ee775afc",
   "metadata": {},
   "outputs": [],
   "source": [
    "7\n",
    "add 10 oil\n",
    "add 20 coal\n",
    "add 5 oil\n",
    "get coal\n",
    "get oil\n",
    "add 1 coal\n",
    "get coal\n",
    "# 20\n",
    "# 15\n",
    "# 21"
   ]
  },
  {
   "cell_type": "markdown",
   "id": "9077ff50",
   "metadata": {},
   "source": [
    "# B. Эффективный менеджмент"
   ]
  },
  {
   "cell_type": "code",
   "execution_count": null,
   "id": "1eef42ae",
   "metadata": {},
   "outputs": [],
   "source": [
    "N, W = map(int, input().split())\n",
    "a, T = [], []\n",
    "for i in range(N):\n",
    "    ai, Ti =  map(int, input().split())\n",
    "    a.append(ai)\n",
    "    T.append(Ti)"
   ]
  },
  {
   "cell_type": "code",
   "execution_count": 13,
   "id": "0dfdcdf1",
   "metadata": {},
   "outputs": [
    {
     "name": "stdout",
     "output_type": "stream",
     "text": [
      "2\n",
      "1 3 2 "
     ]
    }
   ],
   "source": [
    "N, W = 3, 4\n",
    "a = [1,2,3]\n",
    "T = [2,2,2]\n",
    "# # 2\n",
    "# # 3 1 2\n",
    "\n",
    "# N, W = map(int, input().split())\n",
    "# a, T = [], []\n",
    "# for i in range(N):\n",
    "#     ai, Ti =  map(int, input().split())\n",
    "#     a.append(ai)\n",
    "#     T.append(Ti)\n",
    "\n",
    "queue = [0] \n",
    "\n",
    "work = [[]]\n",
    "\n",
    "for i in range(N):\n",
    "    ai, Ti =  a[i], T[i]\n",
    "    ind = 0\n",
    "    while ind < len(queue) and queue[ind] >= a[i]:\n",
    "        ind += 1\n",
    "    if ind == len(queue):\n",
    "        queue.append(0)\n",
    "        work.append([])\n",
    "    \n",
    "    queue[ind] = (a[i] + T[i] - 1)\n",
    "    work[ind].append(i+1)\n",
    "\n",
    "print(len(queue))\n",
    "for i in range(len(work)):\n",
    "    print(*work[i],end=' ')"
   ]
  },
  {
   "cell_type": "code",
   "execution_count": null,
   "id": "1f02ea7a",
   "metadata": {},
   "outputs": [],
   "source": []
  },
  {
   "cell_type": "markdown",
   "id": "1a95aff2",
   "metadata": {},
   "source": [
    "# C. Доставка со склада"
   ]
  },
  {
   "cell_type": "code",
   "execution_count": null,
   "id": "67e9c7ff",
   "metadata": {},
   "outputs": [],
   "source": [
    "N = 3\n",
    "a = [1,10,1]\n",
    "b = [1,2,4]\n"
   ]
  },
  {
   "cell_type": "code",
   "execution_count": null,
   "id": "6103a22c",
   "metadata": {},
   "outputs": [],
   "source": []
  },
  {
   "cell_type": "code",
   "execution_count": null,
   "id": "8758332d",
   "metadata": {},
   "outputs": [],
   "source": []
  },
  {
   "cell_type": "code",
   "execution_count": null,
   "id": "cf6d7320",
   "metadata": {},
   "outputs": [],
   "source": []
  },
  {
   "cell_type": "code",
   "execution_count": null,
   "id": "8b9e60ff",
   "metadata": {},
   "outputs": [],
   "source": []
  },
  {
   "cell_type": "code",
   "execution_count": 14,
   "id": "7a6b47a0",
   "metadata": {},
   "outputs": [],
   "source": [
    "Xl, Xr = 0, 90\n",
    "R = 3\n",
    "N = 4\n",
    "x = [10,70,50,10]\n",
    "y = [10,10,50,90]"
   ]
  },
  {
   "cell_type": "code",
   "execution_count": 21,
   "id": "7be421eb",
   "metadata": {},
   "outputs": [
    {
     "data": {
      "text/plain": [
       "[[0, inf, inf, inf, inf, inf],\n",
       " [70, inf, inf, inf, inf, inf],\n",
       " [inf, inf, inf, inf, inf, inf],\n",
       " [inf, inf, inf, inf, inf, inf],\n",
       " [inf, inf, inf, inf, inf, inf],\n",
       " [inf, inf, inf, inf, inf, inf]]"
      ]
     },
     "execution_count": 21,
     "metadata": {},
     "output_type": "execute_result"
    }
   ],
   "source": [
    "import math\n",
    "dp = [[math.inf for col in range(N+2)] for row in range(N+2)] \n",
    "dp[0][0] = 0\n",
    "dp[1][0] = x[1]\n",
    "dp"
   ]
  },
  {
   "cell_type": "code",
   "execution_count": null,
   "id": "f4dbc4c9",
   "metadata": {},
   "outputs": [],
   "source": [
    "for i in range(1,N+1):\n",
    "    for j in range(1,N+1):\n",
    "        dp[i,j] = "
   ]
  }
 ],
 "metadata": {
  "kernelspec": {
   "display_name": "Python 3 (ipykernel)",
   "language": "python",
   "name": "python3"
  },
  "language_info": {
   "codemirror_mode": {
    "name": "ipython",
    "version": 3
   },
   "file_extension": ".py",
   "mimetype": "text/x-python",
   "name": "python",
   "nbconvert_exporter": "python",
   "pygments_lexer": "ipython3",
   "version": "3.9.7"
  }
 },
 "nbformat": 4,
 "nbformat_minor": 5
}
